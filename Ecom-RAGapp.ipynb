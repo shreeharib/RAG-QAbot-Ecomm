{
 "cells": [
  {
   "attachments": {},
   "cell_type": "markdown",
   "metadata": {},
   "source": [
    "![image](ecomrag.jpg)"
   ]
  },
  {
   "cell_type": "code",
   "execution_count": null,
   "metadata": {},
   "outputs": [],
   "source": [
    "#dependencies need to be installed\n",
    "!pip install pypdf\n",
    "!pip install jq\n",
    "!pip install pinecone-client\n",
    "!pip install pinecone_text\n",
    "!pip install google-generativeai\n",
    "!pip install python-dotenv\n",
    "!pip install langchain\n",
    "!pip install PyPDF2\n",
    "!pip install chromadb\n",
    "!pip install faiss-cpu\n",
    "!pip install langchain_google_genai\n",
    "!pip install rank_bm25\n"
   ]
  },
  {
   "attachments": {},
   "cell_type": "markdown",
   "metadata": {},
   "source": [
    "## Importing necessary libraries"
   ]
  },
  {
   "cell_type": "code",
   "execution_count": 17,
   "metadata": {},
   "outputs": [],
   "source": [
    "#importing the necesary libraries\n",
    "from langchain_community.document_loaders import PyPDFLoader\n",
    "from langchain_community.document_loaders.csv_loader import CSVLoader\n",
    "from langchain_community.document_loaders import JSONLoader\n",
    "from langchain_community.document_loaders import WebBaseLoader\n",
    "from langchain_community.document_loaders.merge import MergedDataLoader\n",
    "from langchain.text_splitter import RecursiveCharacterTextSplitter\n",
    "from langchain_google_genai import GoogleGenerativeAIEmbeddings\n",
    "import google.generativeai as genai\n",
    "from langchain_google_genai import ChatGoogleGenerativeAI\n",
    "from langchain.chains.question_answering import load_qa_chain\n",
    "from langchain.prompts import PromptTemplate\n",
    "from langchain.vectorstores import FAISS\n",
    "from langchain_community.retrievers import PineconeHybridSearchRetriever\n",
    "import pinecone"
   ]
  },
  {
   "attachments": {},
   "cell_type": "markdown",
   "metadata": {},
   "source": [
    "## Data extraction from PDF"
   ]
  },
  {
   "cell_type": "code",
   "execution_count": 3,
   "metadata": {},
   "outputs": [],
   "source": [
    "pdf_loader = PyPDFLoader(\"/Users/shreehari/Documents/GenAi projects/ecommercerag/csvragdatas/Attachment 2.pdf\")"
   ]
  },
  {
   "attachments": {},
   "cell_type": "markdown",
   "metadata": {},
   "source": [
    "## Data extraction from CSV"
   ]
  },
  {
   "cell_type": "code",
   "execution_count": 4,
   "metadata": {},
   "outputs": [],
   "source": [
    "# csv_loader1 = CSVLoader(file_path='/Users/shreehari/Documents/GenAi projects/ecommercerag/csvragdatas/amazon_co-ecommerce_sample.csv')\n",
    "csv_loader2 = CSVLoader(file_path='/Users/shreehari/Documents/GenAi projects/ecommercerag/csvragdatas/myntra_products_catalog.csv')\n"
   ]
  },
  {
   "attachments": {},
   "cell_type": "markdown",
   "metadata": {},
   "source": [
    "## Data extraction from JSON"
   ]
  },
  {
   "cell_type": "code",
   "execution_count": 5,
   "metadata": {},
   "outputs": [],
   "source": [
    "#data extraction from json\n",
    "json_loader = JSONLoader(\n",
    "    file_path='/Users/shreehari/Documents/GenAi projects/ecommercerag/csvragdatas/amazon_uk_shoes_dataset.json',\n",
    "    jq_schema='.[] | {title, price,brand}',\n",
    "    text_content=False)\n"
   ]
  },
  {
   "attachments": {},
   "cell_type": "markdown",
   "metadata": {},
   "source": [
    "## Data extraction from websites"
   ]
  },
  {
   "cell_type": "code",
   "execution_count": 6,
   "metadata": {},
   "outputs": [],
   "source": [
    "# web_loader = WebBaseLoader([\"https://www.amazon.in/s?rh=n%3A1968120031&fs=true&ref=lp_1968120031_sar\",\"https://www.amazon.in/s?i=apparel&rh=n%3A1571271031%2Cn%3A1968024031%2Cn%3A1968120031%2Cn%3A94998646031&dc&fs=true&ds=v1%3AMGv3hbK1Hxx9Zu5q8x4tMmFfb5250gBqlYXAUHeQweY&qid=1721270273&rnid=1571271031&ref=sr_nr_n_2\",\"https://www.amazon.in/s?i=apparel&rh=n%3A1571271031%2Cn%3A1968024031%2Cn%3A1968125031&dc&fs=true&ds=v1%3AOwW1wx%2BSvLHfZi%2FbtIGNZrZNJxq93%2Fk3dZimAShyP2E&qid=1721270610&rnid=1571271031&ref=sr_nr_n_3\",\"https://www.amazon.in/s?i=apparel&rh=n%3A1571271031%2Cn%3A1968024031%2Cn%3A1968125031&dc&fs=true&page=2&qid=1721270623&rnid=1571271031&ref=sr_pg_2\",\"https://sell.amazon.in/sell-online/faq\"])\n",
    "# data = web_loader.load()\n",
    "# data\n",
    "web_loader = WebBaseLoader([\"https://www.amazon.in/s?rh=n%3A1968120031&fs=true&ref=lp_1968120031_sar\"])\n"
   ]
  },
  {
   "attachments": {},
   "cell_type": "markdown",
   "metadata": {},
   "source": [
    "# Due to Resource constraint only website and pdf are used!!"
   ]
  },
  {
   "attachments": {},
   "cell_type": "markdown",
   "metadata": {},
   "source": [
    "## Merging all the loaded Data"
   ]
  },
  {
   "cell_type": "code",
   "execution_count": 8,
   "metadata": {},
   "outputs": [
    {
     "data": {
      "text/plain": [
       "[Document(metadata={'source': 'https://www.amazon.in/s?rh=n%3A1968120031&fs=true&ref=lp_1968120031_sar', 'title': 'Amazon.in', 'language': 'en-in'}, page_content=\"\\n\\n\\n\\n\\n\\n\\n\\n\\n\\n\\n\\n\\n\\n\\n\\n\\n\\n\\n\\n\\n\\n\\n\\n\\n\\n\\n\\n\\n\\n\\n\\n\\n\\n\\n\\n\\nAmazon.in\\n\\n\\n\\n\\n\\n\\n\\n\\n\\n\\n\\n\\n\\n\\n\\n\\n\\n\\n\\n\\n\\n\\n\\n\\n\\n\\n\\n\\n\\n\\n\\n\\n\\n\\n\\n\\n\\n\\n\\n\\n\\nSkip to main content\\n\\n\\n\\n\\n\\n\\n\\n\\n\\n\\n.in\\n\\n\\n\\n\\n\\n\\n\\n\\n\\n                   Delivering to Coimbatore 641014\\n                \\n\\n                   Update location\\n                \\n\\n\\n\\n\\n\\n\\n\\n\\n\\n\\n\\n\\n\\n\\n\\n\\n\\n\\n\\n\\nMen's T-shirts, Polos & Shirts\\n\\n\\nSelect the department you want to search in\\n\\nMen's T-shirts, Polos & Shirts\\nAll Categories\\nAlexa Skills\\nAmazon Devices\\nAmazon Fashion\\nAmazon Fresh\\nAmazon Pharmacy\\nAppliances\\nApps & Games\\nAudible Audiobooks\\nBaby\\nBeauty\\nBooks\\nCar & Motorbike\\nClothing & Accessories\\nCollectibles\\nComputers & Accessories\\nDeals\\nElectronics\\nFurniture\\nGarden & Outdoors\\nGift Cards\\nGrocery & Gourmet Foods\\nHealth & Personal Care\\nHome & Kitchen\\nIndustrial & Scientific\\nJewellery\\nKindle Store\\nLuggage & Bags\\nLuxury Beauty\\nMovies & TV Shows\\nMP3 Music\\nMusic\\nMusical Instruments\\nOffice Products\\nPet Supplies\\nPrime Video\\nShoes & Handbags\\nSoftware\\nSports, Fitness & Outdoors\\nSubscribe & Save\\nTools & Home Improvement\\nToys & Games\\nUnder ₹500\\nVideo Games\\nWatches\\n\\n\\n\\n\\n\\n\\nSearch Amazon.in\\n\\n\\n\\n\\n\\n\\n\\n\\n\\n\\n\\n\\n\\n\\n\\n\\n\\n\\n\\n\\n\\n\\n\\n\\nEN\\n\\n\\n\\n\\n\\nHello, sign in\\nAccount & Lists\\n\\n\\n\\nReturns\\n& Orders\\n\\n\\n\\n0\\n\\n\\n\\n\\n\\n\\n        Cart\\n        \\n\\n\\n\\n\\n\\n\\n\\n\\n\\n\\n\\n\\nAll\\n\\n\\n\\n\\n\\n\\n\\n\\n\\n\\nFresh\\nAmazon miniTV\\nSell\\nBest Sellers\\nToday's Deals\\nMobiles\\nCustomer Service\\nPrime\\n Electronics \\nFashion\\nNew Releases\\nAmazon Pay\\nHome & Kitchen\\nComputers\\nBooks\\nCar & Motorbike\\nBeauty & Personal Care\\nHome Improvement\\nGift Ideas\\t\\nToys & Games\\nSports, Fitness & Outdoors\\nGift Cards\\nCustom Products\\nGrocery & Gourmet Foods\\nHealth, Household & Personal Care\\nBaby\\nVideo Games\\nPet Supplies\\nAudible\\nAmazonBasics\\nSubscribe & Save\\nCoupons\\n\\n\\n\\n\\n\\n\\n\\n\\n\\n\\n\\n\\n\\n\\n\\n\\n\\n\\n\\n\\n\\n\\n\\n\\n\\n\\n      Women\\n      \\n    \\n\\n\\n\\n\\n      Men\\n      \\n    \\n\\n\\n\\n\\n      Kids\\n      \\n    \\n\\n\\n\\n\\n      Bags & Luggage\\n      \\n    \\n\\n\\n\\n\\n      Sportswear\\n      \\n    \\n\\n\\n\\n\\n      Sales & Deals\\n      \\n    \\n\\n\\n\\n\\n\\n\\n\\n\\n\\n\\n\\n\\n\\n\\n\\n\\n\\n\\n\\n\\n\\n\\n\\n\\n\\n\\n\\n\\n\\n\\n\\n\\n1-48 of over 40,000 results\\n\\n\\n\\n\\n\\n\\n\\n\\n\\n\\n\\n\\n\\n\\n\\nSort by:\\nFeatured\\nPrice: Low to High\\nPrice: High to Low\\nAvg. Customer Review\\nNewest Arrivals\\nBest Sellers\\nSort by:Featured\\nGo\\n\\n\\n\\n\\n\\n\\n\\n\\n\\n\\n\\n\\n\\n\\n\\n\\nResults\\n\\nPrice and other details may vary based on product size and colour.\\n\\n\\n\\n\\n\\n\\n\\n\\n\\n\\n\\n+4 colors/patternsSponsoredSponsored You are seeing this ad based on the product’s relevance to your search query.Let us know  SKYKNITMen's Solid Cotton Pocket Polo T-Shirt  ₹489₹489 M.R.P: ₹999₹999 (51% off)\\n\\n\\n\\n\\n\\n\\n+4 colors/patternsSponsoredSponsored You are seeing this ad based on the product’s relevance to your search query.Let us know  SKYKNITMen's Solid Cotton Polo T-Shirt  ₹469₹469 M.R.P: ₹999₹999 (53% off)\\n\\n\\n\\nDixcy ScottOriginals Men’s White Vest Modern Fit innerwear - Claz Vest Rn (Pack of 3)  4.0 out of 5 stars 5,039  1K+ bought in past month₹259₹259 M.R.P: ₹399₹399 (35% off)5% coupon applied at checkoutSave 5%  with coupon (limited sizes/colours) FREE Delivery by Amazon\\nScott InternationalMen's Regular Fit T-Shirt - Cotton Blend, Half Sleeve, Round Neck, Stylish, Solid Plain T-Shirts for Men, mens t shirt - Pack of 3  3.7 out of 5 stars 40,225  1K+ bought in past monthLimited time deal  ₹549₹549 M.R.P: ₹2,397₹2,397 (77% off)₹250 coupon applied at checkoutSave ₹250  with coupon (limited sizes/colours)  FREE Delivery by Amazon\\nBest sellerin Men's T-Shirts  LymioMen T-Shirt || T-Shirt for Men || Plain T Shirt || T-Shirt (Polo-18-21)  3.6 out of 5 stars 878  1K+ bought in past monthLimited time deal  ₹379₹379 M.R.P: ₹2,999₹2,999 (87% off)FREE Delivery by Amazon\\n\\n\\n\\n\\nMore results\\n\\n\\n\\n\\nLevi's012 Classic Vest for Men with Side Branding, Tag Free Comfort & Smartskin Technology  4.2 out of 5 stars 13,720  800+ bought in past month₹448₹448 M.R.P: ₹675₹675 (34% off)10% coupon applied at checkoutSave 10%  with coupon (limited sizes/colours) FREE Delivery by Amazon\\nBest sellerin Men's Polos  +22Amazon Brand - SymbolMen's Cotton Rich Polo T Shirt | Collar Tshirts | Half Sleeves | Plain - Regular Fit  3.9 out of 5 stars 29,013  700+ bought in past monthLimited time deal  ₹359₹359 M.R.P: ₹1,099₹1,099 (67% off)FREE Delivery by Amazon\\n+13Allen SollyMen's Regular Fit Polo  4.1 out of 5 stars 70,298  800+ bought in past month₹799₹799 M.R.P: ₹1,099₹1,099 (27% off) FREE Delivery by Amazon\\nDixcy ScottOriginals Men’s Round Neck Sleeveless Body Fit Solid Vest - Victory Vest- Assorted - Print & Color May be Vary (Pack of 2)  4.1 out of 5 stars 9,293  ₹246₹246 M.R.P: ₹399₹399 (38% off)5% coupon applied at checkoutSave 5%  with coupon (limited sizes/colours) FREE Delivery by Amazon\\n+6BULLMERBlack Trendy Front and Back Printed oversized Round Neck T-shirt for men  3.4 out of 5 stars 1,196  600+ bought in past month₹298₹298 M.R.P: ₹1,499₹1,499 (80% off)FREE Delivery by Amazon\\n+2LEOTUDEMen Half Sleeve Oversized Tshirt, Round Neck Longline Drop Shoulder | Colorful Printed Combo Regular Fit T-Shirt (Pack Of 3)  3.6 out of 5 stars 528  600+ bought in past monthLimited time deal  ₹699₹699 M.R.P: ₹1,599₹1,599 (56% off) FREE Delivery by Amazon\\n\\n\\n\\n\\nMore results\\n\\n\\n\\n\\n+3Van HeusenMen's Solid T Shirt  4.1 out of 5 stars 2,031  600+ bought in past month₹379₹379 M.R.P: ₹999₹999 (62% off)FREE Delivery by Amazon\\n+4Noble MonkMen's Regular Fit Polo Neck T-shirt | Half Sleeve | Stripe On Chest | Collared Neck Tshirt for Men  3.5 out of 5 stars 4  100+ bought in past monthLimited time deal  ₹319₹319 M.R.P: ₹1,299₹1,299 (75% off)FREE Delivery by Amazon\\n+4Jockey9930 Men's Super Combed Cotton Rib Solid Round Neck Muscle Vest  4.2 out of 5 stars 8,244  400+ bought in past month₹348₹348 M.R.P: ₹399₹399 (13% off)FREE Delivery by Amazon\\n+11Lux CoziMen's Regular Fit Polo Neck Half Sleeve Solid Casual T-Shirt | Polo T-Shirt for Men  3.9 out of 5 stars 2,636  400+ bought in past month₹339₹339 M.R.P: ₹380₹380 (11% off)FREE Delivery by Amazon\\n+12Van HeusenMen's Solid Polo T Shirt  4.0 out of 5 stars 37,311  400+ bought in past month₹899₹899 M.R.P: ₹1,099₹1,099 (18% off) FREE Delivery by Amazon\\nLymioCasual Shirt for Men|| Shirt for Men|| Men Stylish Shirt (Rib-Shirt)  3.9 out of 5 stars 1,075  500+ bought in past monthLimited time deal  ₹479₹479 M.R.P: ₹3,999₹3,999 (88% off)FREE Delivery by Amazon\\nJockeyMen's Inner Regular Fit T Shirt  4.0 out of 5 stars 2,216  400+ bought in past month₹299₹299 M.R.P: ₹379₹379 (21% off)FREE Delivery by Amazon\\nBest sellerin Men's Shirts  +22Dennis LingoMen's Solid Slim Fit Cotton Casual Shirt with Spread Collar & Full Sleeves (Also Available in Plus Size)  3.8 out of 5 stars 37,991  400+ bought in past month₹499₹499 M.R.P: ₹1,849₹1,849 (73% off) FREE Delivery by Amazon\\n+5Allen SollyMen's Slim Fit Shirt  3.7 out of 5 stars 15,183  500+ bought in past month₹869₹869 M.R.P: ₹1,499₹1,499 (42% off) FREE Delivery by Amazon\\nLux CoziMen's Round Neck Sleeveless 100% Cotton Vest with Extended Length for Easy Tuck - Pack of 3 (Color & Prints May Vary)  3.9 out of 5 stars 3,783  ₹435₹435 M.R.P: ₹483₹483 (10% off)FREE Delivery by Amazon\\nVIP SupremeMen's Sleeveless Cotton Vest (Pack of 5)  3.9 out of 5 stars 4,833  400+ bought in past month₹499₹499 M.R.P: ₹575₹575 (13% off) FREE Delivery by Amazon\\nLeriya Fashiont shirt for men| white t shirt for men| black drop shoulder t-shirt for men  3.9 out of 5 stars 481  500+ bought in past month₹399₹399 M.R.P: ₹1,999₹1,999 (80% off)FREE Delivery by Amazon\\n+5Amazon Brand - SymbolMen's Solid Cotton Formal Shirt | Plain | Full Sleeve - Regular Fit (Available in Plus Size)  3.9 out of 5 stars 9,157  Limited time deal  ₹549₹549 M.R.P: ₹1,599₹1,599 (66% off) FREE Delivery by Amazon\\nVIPSupreme Men's Cotton Vest (Pack of 3)  3.9 out of 5 stars 2,705  300+ bought in past month₹297₹297FREE Delivery by Amazon\\n+5LEOTUDEMen's Regular Fit Half Sleeve Round Neck Dri-Fit Tshirt (Color Black)  4.0 out of 5 stars 58  300+ bought in past monthLimited time deal  ₹498₹498 M.R.P: ₹1,099₹1,099 (55% off)FREE Delivery by Amazon\\nLEOTUDERegular Fit Half Sleeve Round Neck Dri-Fit Tshirt for Men's Combo (Pack of 3)  3.9 out of 5 stars 355  400+ bought in past monthLimited time deal  ₹498₹498 M.R.P: ₹1,099₹1,099 (55% off)FREE Delivery by Amazon\\nLymioMen T-Shirt || Regular Fit T-Shirt for Men || Plain T Shirt || T-Shirt (Polo-06-10)  4.0 out of 5 stars 1,172  300+ bought in past monthLimited time deal  ₹349₹349 M.R.P: ₹2,999₹2,999 (88% off)FREE Delivery by Amazon\\nJockey8823 Men's Super Combed Cotton Rib Round Neck Sleeveless Vest with Stay Fresh Properties  4.3 out of 5 stars 527  400+ bought in past month₹209₹209FREE Delivery by Amazon\\n+40Amazon Brand - SymbolMen's Cotton T Shirt | Round Neck | Half Sleeve | Plain - Regular Fit (Available in Plus Size)  4.0 out of 5 stars 4,370  300+ bought in past monthLimited time deal  ₹299₹299 M.R.P: ₹699₹699 (57% off)FREE Delivery by Amazon\\nAmazon's Choice  Levi'sMen's Regular Fit T-Shirt  4.1 out of 5 stars 4,264  200+ bought in past month₹376₹376 M.R.P: ₹579₹579 (35% off)5% coupon applied at checkoutSave 5%  with coupon (limited sizes/colours) FREE Delivery by Amazon\\n+9VeirdoOversized Baggy Fit Drop Shoulder Half Sleeves Round Neck Solid Pure 100% Cotton T-Shirt for Men (Available in White, Black, Mustard, Maroon, Green, Lilac, Navy, Red Color)  4.0 out of 5 stars 442  300+ bought in past month₹329₹329 M.R.P: ₹1,099₹1,099 (70% off)FREE Delivery by Amazon\\n+4 colors/patternsFUNKY RICHFunkyrich® Textured Popcorn Shirts for Men || Casual Shirt for Men || Shirt for Men|| Men Stylish Half Sleeve Shirt || Men Fancy Shirt || Self Design Lapel Collar Casual Shirt  4.7 out of 5 stars 4  100+ bought in past month₹399₹399 M.R.P: ₹999₹999 (60% off)\\nGRECIILOOKSMen's Regular Fit Shirt  4.0 out of 5 stars 928  300+ bought in past monthLimited time deal  ₹479₹479 M.R.P: ₹2,299₹2,299 (79% off)FREE Delivery by Amazon\\nI ENTERPRISECotton Blend Regular Fit Round Neck Plain Solid Full Sleeve T-Shirt for Men-&-Boys  4.4 out of 5 stars 36  100+ bought in past monthLimited time deal  ₹399₹399 M.R.P: ₹1,499₹1,499 (73% off)FREE Delivery by Amazon\\n+6BULLMERPeach Trendy Front Printed oversized Round Neck T-shirt for men  3.5 out of 5 stars 732  300+ bought in past month₹298₹298 M.R.P: ₹1,499₹1,499 (80% off)FREE Delivery by Amazon\\nLeriya FashionMen's Regular Fit Polo T-Shirt T-Shirt  4.4 out of 5 stars 82  300+ bought in past monthLimited time deal  ₹309₹309 M.R.P: ₹1,999₹1,999 (85% off)FREE Delivery by Amazon\\n+4CB-COLEBROOKMen's Casual Button Down Shirts Long Sleeve Linen Shirt Fashion Textured Beach Summer Shirt  4.1 out of 5 stars 72  ₹499₹499 M.R.P: ₹2,195₹2,195 (77% off) FREE Delivery by Amazon\\n+5PinkmintMens Long Sleeve Button Down Shirt for Men Collared Casual Formal Soild Shirt  4.0 out of 5 stars 424  100+ bought in past monthLimited time deal  ₹349₹349 M.R.P: ₹1,999₹1,999 (83% off)FREE Delivery by Amazon\\nLEOTUDEMen's Regular Fit Half Sleeve Matty Polo T-Shirt | Plus Size Also Available (Color Multicolor)  3.6 out of 5 stars 2,495  200+ bought in past monthLimited time deal  ₹298₹298 M.R.P: ₹1,099₹1,099 (73% off)FREE Delivery by Amazon\\n+2DEELMOMen's Cotton Blend Mandarin Collar Self One Design Full Sleeve Casual Short Kurta  3.2 out of 5 stars 179  300+ bought in past month₹494₹494 M.R.P: ₹2,199₹2,199 (78% off)FREE Delivery by Amazon\\n+7FTXMen's T-Shirt  3.8 out of 5 stars 889  200+ bought in past month₹449₹449 M.R.P: ₹1,249₹1,249 (64% off)FREE Delivery by Amazon\\nTagdoMen's Waffle Knitted Crew Neck Regular Fit Tees  4.4 out of 5 stars 348  300+ bought in past month₹299₹299 M.R.P: ₹1,399₹1,399 (79% off)FREE Delivery by Amazon\\n+14AUSKT-shirt for Mens Double Stripes on Chest  3.1 out of 5 stars 1,269  200+ bought in past monthLimited time deal  ₹219₹219 M.R.P: ₹1,499₹1,499 (85% off)2% coupon applied at checkoutSave 2%  with coupon (limited sizes/colours) FREE Delivery by Amazon\\nDixcy ScottMen Vest  3.8 out of 5 stars 12,348  200+ bought in past month₹299₹299 M.R.P: ₹431₹431 (31% off)5% coupon applied at checkoutSave 5%  with coupon (limited sizes/colours) FREE Delivery by Amazon\\nU.S. POLO ASSN.Men's Regular Fit T-Shirt  4.0 out of 5 stars 8,855  100+ bought in past month₹449₹449 M.R.P: ₹749₹749 (40% off)FREE Delivery by Amazon\\n+3JockeyMen's Regular Fit Racer Back Shirt  4.2 out of 5 stars 8,841  300+ bought in past month₹339₹339FREE Delivery by Amazon\\nBoldfitSports T Shirt for Men Quick Dry Fit Tshirt for Men Gym T Shirts for Men for Casual Wear Workout T Shirts for Man Active Gym Wear for Men Running T-Shirts for Men T Shirt for Man  4.8 out of 5 stars 67  100+ bought in past month₹399₹399 M.R.P: ₹999₹999 (60% off)FREE Delivery by Amazon\\nLEOTUDEHalf Regular Fit Sleeve Men's Polo T-Shirt Combo (Pack of 3)  3.6 out of 5 stars 375  100+ bought in past monthLimited time deal  ₹799₹799 M.R.P: ₹1,599₹1,599 (50% off) FREE Delivery by Amazon\\nScott InternationalShirt for men, Solid Full Sleeves shirt, Wrinkle Free Mens shirts, Cotton Formal Shirts, Regular Fit stylish mens shirt, Plain Formal Shirts for Men  3.9 out of 5 stars 87  300+ bought in past monthLimited time deal  ₹799₹799 M.R.P: ₹1,699₹1,699 (53% off)₹300 coupon applied at checkoutSave ₹300  with coupon (limited sizes/colours)  FREE Delivery by Amazon\\n\\nPrevious123...400Next\\n\\n\\n\\n\\n\\nNeed help?\\n\\nVisit the help section or contact us\\n\\n\\n\\n\\n\\n\\n\\n\\n\\n\\n\\n\\n\\n\\n\\n\\n\\n\\n\\n\\n\\n\\n\\n                  Go back to filtering menu\\n              \\n\\n\\n\\n\\n\\n\\n                  Skip to main search results\\n              \\n\\n\\n\\n\\n\\n\\n\\n\\n\\nDelivery Day\\n\\n\\n\\n\\n\\n\\n\\nGet It Today\\n\\n\\n\\n\\n\\n\\n\\nGet It by Tomorrow\\n\\n\\n\\n\\n\\n\\n\\nGet It in 2 Days\\n\\n\\n\\n\\n\\n\\n\\n\\nCategory\\n\\n\\n\\n\\n\\n\\n\\nClothing & Accessories\\n\\n\\n\\n\\n\\nMen's Clothing\\n\\n\\n\\nMen's T-shirts, Polos & Shirts\\n\\n\\n\\nMen's T-Shirts\\n\\n\\n\\n\\nMen's Shirts\\n\\n\\n\\n\\nMen's Polos\\n\\n\\n\\n\\nMen's Tank Tops\\n\\n\\n\\n\\n\\n\\n\\n\\nCustomer Reviews\\n\\n\\n\\n\\n\\n\\n\\n4 Stars & Up\\n& Up\\n\\n\\n\\n\\n\\n\\n\\n\\n\\nBrands\\n\\n\\n\\n\\n\\n\\n\\nAmazon Brand - Symbol\\n\\n\\n\\n\\n\\n\\n\\nAllen Solly\\n\\n\\n\\n\\n\\n\\n\\nVan Heusen\\n\\n\\n\\n\\n\\n\\n\\nU.S. POLO ASSN.\\n\\n\\n\\n\\n\\n\\n\\nJockey\\n\\n\\n\\n\\n\\n\\n\\nPeter England\\n\\n\\n\\n\\n\\n\\n\\nLevi's\\n\\n\\n\\n\\n\\n\\n\\n\\n\\n\\n\\nVeirdo\\n\\n\\n\\n\\n\\n\\n\\nLEOTUDE\\n\\n\\n\\n\\n\\n\\n\\nAmazon Brand - INKAST\\n\\n\\n\\n\\n\\nSee more\\n\\n\\n\\n\\n\\n\\n\\n\\nPrice\\n\\n\\n\\n\\n\\n\\n\\n\\n\\n\\n\\n\\n\\n\\n₹115\\n\\n\\n–\\n\\n\\n₹4,700+\\n\\n\\n\\n\\n\\n\\n\\n\\n\\n\\n\\n\\n\\nGo\\n\\n\\n\\n\\n\\n\\n\\n\\nDeals & Discounts\\n\\n\\n\\n\\n\\n\\nAll Discounts\\n\\n\\n\\n\\n\\n\\nToday's Deals\\n\\n\\n\\n\\n\\n\\n\\n\\nAmazon Fashion\\n\\n\\n\\n\\n\\n\\n\\nTop Brands\\n\\n\\n\\n\\n\\n\\n\\nMade for Amazon\\n\\n\\n\\n\\n\\n\\n\\nPremium Brands\\n\\n\\n\\n\\n\\n\\nSleeve Cuff Style\\n\\n\\n\\n\\n\\n\\n\\nAngle Cut Cuff\\n\\n\\n\\n\\n\\n\\n\\nBarrel Cuff\\n\\n\\n\\n\\n\\n\\n\\nRibbed Cuff\\n\\n\\n\\n\\n\\n\\n\\nRound Cut Cuff\\n\\n\\n\\n\\n\\n\\n\\nSingle Cuff\\n\\n\\n\\n\\n\\n\\nMen's Clothing Size\\n\\n\\n\\n\\n\\n\\n\\n2XS\\n\\n\\n\\n\\n\\n\\n\\n\\nXS\\n\\n\\n\\n\\n\\n\\n\\n\\nS\\n\\n\\n\\n\\n\\n\\n\\n\\nM\\n\\n\\n\\n\\n\\n\\n\\n\\nL\\n\\n\\n\\n\\n\\n\\n\\n\\nXL\\n\\n\\n\\n\\n\\n\\n\\n\\n2XL\\n\\n\\n\\n\\n\\n\\n\\n\\n3XL\\n\\n\\n\\n\\n\\n\\n\\n\\n4XL\\n\\n\\n\\n\\n\\n\\n\\n\\n5XL\\n\\n\\n\\n\\n\\n\\n\\n\\n6XL\\n\\n\\n\\n\\n\\n\\n\\nSpecial Features\\n\\n\\n\\n\\n\\n\\n\\nBreathable\\n\\n\\n\\n\\n\\n\\n\\nLightweight\\n\\n\\n\\n\\n\\n\\n\\nMoisture Wicking\\n\\n\\n\\n\\n\\n\\n\\nQuick Dry\\n\\n\\n\\n\\n\\n\\n\\nSun Protection\\n\\n\\n\\n\\n\\n\\n\\nAdjustable\\n\\n\\n\\n\\n\\n\\n\\nConvertible\\n\\n\\n\\n\\n\\n\\n\\n\\n\\n\\n\\nStretchable\\n\\n\\n\\n\\n\\n\\n\\nSustainable\\n\\n\\n\\n\\n\\nSee more\\n\\n\\n\\n\\n\\nPocket Description\\n\\n\\n\\n\\n\\n\\n\\nCargo Pocket\\n\\n\\n\\n\\n\\n\\n\\nCoin Pocket\\n\\n\\n\\n\\n\\n\\n\\nFlap Pocket\\n\\n\\n\\n\\n\\n\\n\\nKangaroo Pocket\\n\\n\\n\\n\\n\\n\\n\\nPatch Pocket\\n\\n\\n\\n\\n\\n\\n\\nRound Pocket\\n\\n\\n\\n\\n\\n\\n\\nSlit Pocket\\n\\n\\n\\n\\n\\n\\n\\nStraight Pocket\\n\\n\\n\\n\\n\\n\\nOccasion\\n\\n\\n\\n\\n\\n\\n\\nAnniversary\\n\\n\\n\\n\\n\\n\\n\\nBachelor Party\\n\\n\\n\\n\\n\\n\\n\\nBachelorette Party\\n\\n\\n\\n\\n\\n\\n\\nBirthday\\n\\n\\n\\n\\n\\n\\n\\nChristmas\\n\\n\\n\\n\\n\\n\\n\\nDiwali\\n\\n\\n\\n\\n\\n\\n\\nEaster\\n\\n\\n\\n\\n\\n\\n\\n\\n\\n\\n\\nFather's Day\\n\\n\\n\\n\\n\\n\\n\\nGraduation\\n\\n\\n\\n\\n\\n\\n\\nHalloween\\n\\n\\n\\n\\n\\n\\n\\nHoneymoon\\n\\n\\n\\n\\n\\n\\n\\nNew Year\\n\\n\\n\\n\\n\\n\\n\\nThanksgiving\\n\\n\\n\\n\\n\\n\\n\\nValentine's Day\\n\\n\\n\\n\\n\\n\\n\\nWedding\\n\\n\\n\\n\\n\\nSee more\\n\\n\\n\\n\\n\\nColour\\n\\n\\n\\n\\n\\n\\n\\n\\n\\n\\n\\n\\n\\n\\n\\n\\n\\n\\n\\n\\n\\n\\n\\n\\n\\n\\n\\n\\n\\n\\n\\n\\n\\n\\n\\n\\n\\n\\n\\n\\n\\n\\n\\n\\n\\n\\n\\n\\n\\n\\n\\n\\n\\n\\n\\n\\n\\n\\n\\n\\n\\n\\n\\n\\n\\n\\n\\n\\n\\n\\n\\n\\n\\n\\n\\n\\n\\n\\n\\n\\n\\n\\n\\n\\n\\n\\n\\n\\n\\n\\n\\n\\n\\n\\n\\n\\n\\n\\n\\n\\n\\n\\n\\n\\n\\n\\n\\n\\n\\n\\n\\n\\n\\n\\n\\n\\n\\n\\n\\n\\n\\n\\n\\n\\n\\n\\n\\n\\n\\n\\n\\n\\n\\n\\n\\n\\n\\n\\n\\n\\n\\n\\n\\n\\n\\n\\n\\n\\n\\n\\n\\n\\n\\n\\n\\n\\n\\n\\n\\nClosure Type\\n\\n\\n\\n\\n\\n\\n\\nButton\\n\\n\\n\\n\\n\\n\\n\\nPull On\\n\\n\\n\\n\\n\\n\\n\\nSnap\\n\\n\\n\\n\\n\\n\\n\\nZipper\\n\\n\\n\\n\\n\\n\\n\\nDrawstring\\n\\n\\n\\n\\n\\n\\n\\nHook and Eye\\n\\n\\n\\n\\n\\n\\nNeckline\\n\\n\\n\\n\\n\\n\\n\\nCollared Neck\\n\\n\\n\\n\\n\\n\\n\\nCrew Neck\\n\\n\\n\\n\\n\\n\\n\\nHenley Neck\\n\\n\\n\\n\\n\\n\\n\\nHigh Neck\\n\\n\\n\\n\\n\\n\\n\\nHooded Neck\\n\\n\\n\\n\\n\\n\\n\\nMandarin Neck\\n\\n\\n\\n\\n\\n\\n\\nMock Neck\\n\\n\\n\\n\\n\\n\\n\\nNotch Neck\\n\\n\\n\\n\\n\\n\\n\\nScoop Neck\\n\\n\\n\\n\\n\\n\\n\\nSquare Neck\\n\\n\\n\\n\\n\\n\\n\\nTurtle Neck\\n\\n\\n\\n\\n\\n\\nPattern\\n\\n\\n\\n\\n\\n\\n\\nAnimal print\\n\\n\\n\\n\\n\\n\\n\\nCamouflage\\n\\n\\n\\n\\n\\n\\n\\nCartoon\\n\\n\\n\\n\\n\\n\\n\\nChequered\\n\\n\\n\\n\\n\\n\\n\\nFloral\\n\\n\\n\\n\\n\\n\\n\\nGeometric\\n\\n\\n\\n\\n\\n\\n\\nHerringbone\\n\\n\\n\\n\\n\\n\\n\\nLetter print\\n\\n\\n\\n\\n\\n\\n\\nMoire\\n\\n\\n\\n\\n\\n\\n\\nPaisley\\n\\n\\n\\n\\n\\n\\n\\nPlaid\\n\\n\\n\\n\\n\\n\\n\\nPolka dots\\n\\n\\n\\n\\n\\n\\n\\nSolid\\n\\n\\n\\n\\n\\n\\n\\nStars\\n\\n\\n\\n\\n\\n\\n\\nStriped\\n\\n\\n\\n\\n\\n\\nMaterial\\n\\n\\n\\n\\n\\n\\n\\nCotton\\n\\n\\n\\n\\n\\n\\n\\nDenim\\n\\n\\n\\n\\n\\n\\n\\nLinen\\n\\n\\n\\n\\n\\n\\n\\nRayon\\n\\n\\n\\n\\n\\n\\n\\nRubber\\n\\n\\n\\n\\n\\n\\n\\nSatin\\n\\n\\n\\n\\n\\n\\n\\nSilk\\n\\n\\n\\n\\n\\n\\n\\n\\n\\n\\n\\nSynthetic\\n\\n\\n\\n\\n\\nSee more\\n\\n\\n\\n\\n\\nLifestyle\\n\\n\\n\\n\\n\\n\\n\\nBusiness Casual\\n\\n\\n\\n\\n\\n\\n\\nCasual\\n\\n\\n\\n\\n\\n\\n\\nComfort\\n\\n\\n\\n\\n\\n\\n\\nEvening\\n\\n\\n\\n\\n\\n\\n\\nFormal\\n\\n\\n\\n\\n\\n\\nFit Type\\n\\n\\n\\n\\n\\n\\n\\nAthletic Fit\\n\\n\\n\\n\\n\\n\\n\\nClassic Fit\\n\\n\\n\\n\\n\\n\\n\\nFitted\\n\\n\\n\\n\\n\\n\\n\\nLoose Fit\\n\\n\\n\\n\\n\\n\\n\\nModern Fit\\n\\n\\n\\n\\n\\n\\n\\nOversized Fit\\n\\n\\n\\n\\n\\n\\n\\nRegular Fit\\n\\n\\n\\n\\n\\n\\n\\nRelaxed Fit\\n\\n\\n\\n\\n\\n\\n\\nSkinny Fit\\n\\n\\n\\n\\n\\n\\n\\nSlim Fit\\n\\n\\n\\n\\n\\n\\nSleeve Length\\n\\n\\n\\n\\n\\n\\n\\nSleeveless\\n\\n\\n\\n\\n\\n\\n\\nShort Sleeve\\n\\n\\n\\n\\n\\n\\n\\nHalf Sleeve\\n\\n\\n\\n\\n\\n\\n\\n3/4 Sleeve\\n\\n\\n\\n\\n\\n\\n\\nLong Sleeve\\n\\n\\n\\n\\n\\n\\nCare Instructions\\n\\n\\n\\n\\n\\n\\n\\nDry Clean Only\\n\\n\\n\\n\\n\\n\\n\\nHand Wash Only\\n\\n\\n\\n\\n\\n\\n\\nMachine Wash\\n\\n\\n\\n\\n\\n\\nPay On Delivery\\n\\n\\n\\n\\n\\n\\n\\nEligible for Pay On Delivery\\n\\n\\n\\n\\n\\n\\nNew Arrivals\\n\\n\\n\\n\\n\\n\\nLast 30 days\\n\\n\\n\\n\\n\\n\\nLast 90 days\\n\\n\\n\\n\\n\\n\\nDiscount\\n\\n\\n\\n\\n\\n\\n10% Off or more\\n\\n\\n\\n\\n\\n\\n25% Off or more\\n\\n\\n\\n\\n\\n\\n35% Off or more\\n\\n\\n\\n\\n\\n\\n50% Off or more\\n\\n\\n\\n\\n\\n\\n60% Off or more\\n\\n\\n\\n\\n\\n\\n70% Off or more\\n\\n\\n\\n\\n\\n\\nSeller\\n\\n\\n\\n\\n\\n\\n\\nCocoblu Retail\\n\\n\\n\\n\\n\\n\\n\\nLeotude Lifestyle Private Limited\\n\\n\\n\\n\\n\\n\\n\\n\\n\\n\\n\\nJockeyIndia\\n\\n\\n\\n\\n\\n\\n\\nFrost Clothings\\n\\n\\n\\n\\n\\n\\n\\nBodyGlove Apparel Online\\n\\n\\n\\n\\n\\n\\n\\nAditya birla fashion and lifestyle\\n\\n\\n\\n\\n\\n\\n\\nFRISKE KNITS PRIVATE LIMITED\\n\\n\\n\\n\\n\\nSee more\\n\\n\\n\\n\\n\\nAvailability\\n\\n\\n\\n\\n\\n\\n\\nInclude Out of Stock\\n\\n\\n\\n\\n\\n\\n\\n\\n\\n\\n\\n\\n\\n\\n\\n\\n\\n\\n\\n\\n\\n\\n\\n\\n\\n\\n\\n\\n\\n\\n\\n\\n\\n\\n\\n\\n\\n\\n\\n\\n\\n\\n\\n\\n\\n\\n\\n\\n\\n\\n\\n\\n\\n\\n\\n\\n\\n\\n\\n\\n\\n\\n\\n\\n\\n\\n\\n\\n\\n\\n\\n\\n                    Your recently viewed items and featured recommendations      ›    View or edit your browsing history     After viewing product detail pages, look here to find an easy way to navigate back to pages you are interested in.         Your recently viewed items and featured recommendations      ›    View or edit your browsing history     After viewing product detail pages, look here to find an easy way to navigate back to pages you are interested in.        \\n\\n\\n\\n\\n    Back to top\\n  \\n\\n\\n\\n\\n\\nGet to Know Us\\n\\n\\nAbout Us\\n\\n\\nCareers\\n\\n\\nPress Releases\\n\\n\\nAmazon Science\\n\\n\\n\\n\\n\\nConnect with Us\\n\\n\\nFacebook\\n\\n\\nTwitter\\n\\n\\nInstagram\\n\\n\\n\\n\\n\\nMake Money with Us\\n\\n\\nSell on Amazon\\n\\n\\nSell under Amazon Accelerator\\n\\n\\nProtect and Build Your Brand\\n\\n\\nAmazon Global Selling\\n\\n\\nBecome an Affiliate\\n\\n\\nFulfilment by Amazon\\n\\n\\nAdvertise Your Products\\n\\n\\nAmazon Pay on Merchants\\n\\n\\n\\n\\n\\nLet Us Help You\\n\\n\\nCOVID-19 and Amazon\\n\\n\\nYour Account\\n\\n\\nReturns Centre\\n\\n\\nRecalls and Product Safety Alerts\\n\\n\\n100% Purchase Protection\\n\\n\\nAmazon App Download\\n\\n\\nHelp\\n\\n\\n\\n\\n\\n\\n\\n\\n\\n\\n\\n\\n\\n\\n\\n\\n\\nEnglish\\n\\n\\n\\nIndia\\n\\n\\n\\n\\n\\n\\nAbeBooksBooks, art& collectibles\\nAmazon Web ServicesScalable CloudComputing Services\\nAudibleDownloadAudio Books\\nIMDbMovies, TV& Celebrities\\n\\xa0\\n\\nShopbopDesignerFashion Brands\\n\\t\\nAmazon BusinessEverything ForYour Business\\nPrime Now 2-Hour Deliveryon Everyday Items\\nAmazon Prime Music100 million songs, ad-freeOver 15 million podcast episodes \\n\\n\\n\\nConditions of Use & Sale Privacy Notice Interest-Based Ads © 1996-2024, Amazon.com, Inc. or its affiliates\\n\\n\\n\\n\\n\\n\\n\\n\\n\\n\\n\\n\\n\\n\\n\\n\\n\\n\\n\\n\\n\\n\\n\\n\\n\"),\n",
       " Document(metadata={'source': '/Users/shreehari/Documents/GenAi projects/ecommercerag/csvragdatas/Attachment 2.pdf', 'page': 0}, page_content='c A R E E R\\nc L O S E T\\nDRESS \\nFOR\\nSUCCESS\\n'),\n",
       " Document(metadata={'source': '/Users/shreehari/Documents/GenAi projects/ecommercerag/csvragdatas/Attachment 2.pdf', 'page': 1}, page_content='B U S I N E S S  C A S U A L     \\nF O R M A L  \\n \\nB U S I N E S S  C A S U A L\\nF O R M A L\\n \\nD R E S S I N G  B E Y O N D  \\nT H E  B I N A R Y\\n \\nQ U I C K  T I P S\\n \\n \\nTABLE OF CONTENTS\\nD R E S S  F O R  S U C C E S S\\nJustin A. Rivera Issue 01'),\n",
       " Document(metadata={'source': '/Users/shreehari/Documents/GenAi projects/ecommercerag/csvragdatas/Attachment 2.pdf', 'page': 2}, page_content='DRESS\\nFOR\\nSUCCESSCARREER SUCCESS CENTER PRESENTS\\n'),\n",
       " Document(metadata={'source': '/Users/shreehari/Documents/GenAi projects/ecommercerag/csvragdatas/Attachment 2.pdf', 'page': 3}, page_content='WHAT IS BUSINESS\\nCASUAL \\xa0\\nWHAT TO WEAR:\\n \\nCHINOS\\nChinos\\xa0are great because they boost the appeal of casual looks,\\xa0but\\xa0they\\nare\\xa0still\\xa0quite laid-back. \\nYou will want chinos in all the classic colors for maximum versatility. Black,\\nnavy, khaki and beige are recommended. \\nMake sure\\xa0your chinos\\xa0are a slimmer fit and aren’t too long or too short.\\nOnce you find a style or brand that works well for you, invest in several\\npairs and colors so you can ensure all your looks are consistently\\xa0polished. \\nJustin A. Rivera Issue 01'),\n",
       " Document(metadata={'source': '/Users/shreehari/Documents/GenAi projects/ecommercerag/csvragdatas/Attachment 2.pdf', 'page': 4}, page_content='WHAT IS BUSINESS\\nCASUAL\\xa0\\nWHAT TO WEAR:\\n \\nSHIRTS\\n These traditional shirts work well as long as they are well-tailored, made\\nfrom high-quality materials, and of course, ironed or steamed.\\nA few good button-down shirts are a must for any business casual wardrobe. \\nThey are flattering, versatile and work well with tailored pants,\\xa0chinos\\xa0and\\nunder jackets,\\xa0cardigans\\xa0and\\xa0blazers\\xa0alike.\\nJustin A. Rivera Issue 01'),\n",
       " Document(metadata={'source': '/Users/shreehari/Documents/GenAi projects/ecommercerag/csvragdatas/Attachment 2.pdf', 'page': 5}, page_content='WHAT IS BUSINESS\\nCASUAL\\xa0\\nWHAT TO WEAR:\\n \\nSHOES\\nBrogues,\\xa0monk-straps,\\xa0loafers\\xa0and\\xa0Oxfords\\xa0are good\\xa0business casual\\nshoe\\xa0choices but think about changing the types of materials you prefer. \\nSuedes and matte leathers are adaptable and will lend more of a relaxed vibe\\nto a look. \\nBlack is classic and works well with crisp white shirts, but use business casual\\nas a way of introducing more color to your looks. \\nDusty brown is recommended as it works great alongside other neutral\\ntones like beiges and tans and also complements navies, emerald greens and\\nrich burgundies.\\nJustin A. Rivera Issue 01'),\n",
       " Document(metadata={'source': '/Users/shreehari/Documents/GenAi projects/ecommercerag/csvragdatas/Attachment 2.pdf', 'page': 6}, page_content='WHAT IS BUSINESS\\nCASUAL\\xa0\\nWHAT TO WEAR:\\n \\nBLAZERS\\nBlazers for business casual shouldn’t be too formal, yet should still have a\\ndressed-up element to them. \\nOpt for\\xa0blazers\\xa0without too much structure as this will read professional but\\nnot overly conservative. \\nThe fit is important, and you do not want something that overwhelms your\\nlook. Blazers in staple colors will ground your looks and lend a classic edge\\nto your clothing choices.\\nJustin A. Rivera Issue 01'),\n",
       " Document(metadata={'source': '/Users/shreehari/Documents/GenAi projects/ecommercerag/csvragdatas/Attachment 2.pdf', 'page': 7}, page_content='WHAT IS BUSINESS\\nCASUAL\\xa0\\nWHAT TO WEAR:\\n \\nJEANS\\nA straight-leg style in black or a dark blue hue makes a particularly suitable\\nchoice. \\nMake sure they have no rips and aren’t too faded to ensure you appear\\npolished instead of sloppy.  \\nWearing smart items, such as an\\xa0Oxford shirt\\xa0and\\xa0derby shoes, look great,\\nbut it’ll also elevate your look to an appropriate level.\\nJustin A. Rivera Issue 01'),\n",
       " Document(metadata={'source': '/Users/shreehari/Documents/GenAi projects/ecommercerag/csvragdatas/Attachment 2.pdf', 'page': 8}, page_content='WHAT IS BUSINESS\\nCASUAL\\xa0\\nWHAT TO WEAR:\\n \\nCARDIGANS AND SWEATERS\\nOpt for round neck cable knit sweaters for a clean, classic aesthetic\\xa0\\nFor\\xa0cardigans, shawl neck versions, are the best choice ensure\\xa0these\\ncardigans\\xa0fit well and are of good quality because they can be worn\\ncountlessly. \\nIf you want something more relaxed, opt for grandpa-style cardigans which\\nare minimal but still work well for your office looks.\\nJustin A. Rivera Issue 01\\n'),\n",
       " Document(metadata={'source': '/Users/shreehari/Documents/GenAi projects/ecommercerag/csvragdatas/Attachment 2.pdf', 'page': 9}, page_content='WHAT IS BUSINESS\\nCASUAL\\xa0\\nWHAT TO WEAR:\\n \\nJACKETS\\nA stylish\\xa0bomber jacket\\xa0can make a great option. Just make sure that you\\npick one in a dark color or neutral hue to ensure it appears polished. \\nLikewise, dark denim jackets can also be appropriate for the office, so long\\nas you pair them with a smart outfit. \\nFor a stylish look, try pairing a business casual jacket with a pair\\nof\\xa0chinos,\\xa0derby shoes\\xa0and an\\xa0Oxford shirt. If you still feel a little\\nunderdressed, consider adding a tie to your look.\\nJustin A. Rivera Issue 01'),\n",
       " Document(metadata={'source': '/Users/shreehari/Documents/GenAi projects/ecommercerag/csvragdatas/Attachment 2.pdf', 'page': 10}, page_content=\"WHAT IS BUSINESS\\nCASUAL\\xa0\\nWHAT TO WEAR:\\n \\nACCESSORIES\\nA\\xa0pocket square\\xa0that corresponds well with your tie will accent your\\naccompanying clothing.\\nDo not go for overly vivid or bright colors and patterns; observe the formality\\nof the job. \\nDon't go for a bulky suitcase; rather opt for a structured envelope bag or slender\\nbriefcase in a good quality leather if you’re carrying important documents. \\nCufflinks and a\\xa0quality watch\\xa0are also a nice addition that will boost looks in a\\nsubtle but stylish way.\\nJustin A. Rivera Issue 01\"),\n",
       " Document(metadata={'source': '/Users/shreehari/Documents/GenAi projects/ecommercerag/csvragdatas/Attachment 2.pdf', 'page': 11}, page_content='WHAT IS BUSINESS\\nFORMAL\\xa0\\nEmployers like to imagine you being part of their office, so professionalism\\nshould be maintained in your interview attire. \\nA two-piece suit is ideal; it registers clean and simple. Tailoring is also\\nparamount; your suit should fit appropriately.\\xa0A two-piece suit in a dark\\ncolor is highly recommended for a job interview.\\nStick to the classics; navy or charcoal grey work perfectly when tailored and\\nreads friendly and approachable to your interviewer.\\xa0\\nWHAT TO WEAR:\\n \\nSUITS\\nJustin A. Rivera Issue 01'),\n",
       " Document(metadata={'source': '/Users/shreehari/Documents/GenAi projects/ecommercerag/csvragdatas/Attachment 2.pdf', 'page': 12}, page_content='WHAT IS BUSINESS\\nFORMAL\\xa0\\nWHAT TO WEAR:\\n \\nDRESS SHIRT\\nLighter toned shirts always work better in a professional context, so stick to\\nthe classics; a crisp bright white or a powder blue shirt will do the trick. \\nAlso be mindful of the type of collar you go for, opt for straight collared\\nshirts as opposed to button-down collars for a more formal touch.\\nOversized shirts are not great, opt for fitted styles \\n \\nJustin A. Rivera Issue 01'),\n",
       " Document(metadata={'source': '/Users/shreehari/Documents/GenAi projects/ecommercerag/csvragdatas/Attachment 2.pdf', 'page': 13}, page_content='WHAT IS BUSINESS\\nFORMAL\\xa0\\nWHAT TO WEAR:\\n \\nSOCKS\\nSocks can be a great way to demonstrate your personal style in an office\\nsetting, but for your interview, play it safe.\\nGo for darker shades to complement your suit and if you are going for a\\nprint opt for traditional and subtle tones. \\nAlso, ensure that your socks are not too short.\\nJustin A. Rivera Issue 01'),\n",
       " Document(metadata={'source': '/Users/shreehari/Documents/GenAi projects/ecommercerag/csvragdatas/Attachment 2.pdf', 'page': 14}, page_content='WHAT IS BUSINESS\\nFORMAL\\xa0\\nWHAT TO WEAR:\\n \\nTIE\\nDo not wear a slim or extra wide tie, strike a balance and go for a standard\\nwidth tie in a conservative color or pattern. \\nMuch like your shirt and suit, keep your\\xa0tie style and colors\\xa0clean and\\nclassic. \\nBurgundies, emerald greens, navies and other traditional shades are perfect\\nand will complement your accompanying clothing.\\n \\nJustin A. Rivera Issue 01'),\n",
       " Document(metadata={'source': '/Users/shreehari/Documents/GenAi projects/ecommercerag/csvragdatas/Attachment 2.pdf', 'page': 15}, page_content='DRESS\\nFOR\\nSUCCESSCARREER SUCCESS CENTER PRESENTS\\n'),\n",
       " Document(metadata={'source': '/Users/shreehari/Documents/GenAi projects/ecommercerag/csvragdatas/Attachment 2.pdf', 'page': 16}, page_content=\"WHAT IS BUSINESS\\nCASUAL\\xa0\\nWHAT TO WEAR:\\n \\nDENIM\\nAlways a Do: If denim is permitted go for a well tailored jean (wide leg or boot cut), in a dark\\nwash, and dress it up with a pair of heels or a silk blouse.\\xa0\\nAlways a Don't:\\xa0Anything that’s torn (even on purpose), stretched out and baggy as a result\\nof overuse, skin tight, or so low slung that you fear sitting down at a meeting.\\nJustin A. Rivera Issue 01\"),\n",
       " Document(metadata={'source': '/Users/shreehari/Documents/GenAi projects/ecommercerag/csvragdatas/Attachment 2.pdf', 'page': 17}, page_content='WHAT IS BUSINESS\\nCASUAL\\nWHAT TO WEAR:\\n \\nPANTS\\nCropped, wide-leg, straight or slim pants are an excellent choice for women\\nwho must adhere to a business casual dress code. \\nChoose a pair of pants in a neutral shad  like black, tan or a dark hue, such as\\nburgundy or navy. A simple print can also be appropriate. \\nWhen it comes to fabrication, selecting a pair with a little stretch will ensure\\nmaximum comfort when sitting down.\\nJustin A. Rivera Issue 01'),\n",
       " Document(metadata={'source': '/Users/shreehari/Documents/GenAi projects/ecommercerag/csvragdatas/Attachment 2.pdf', 'page': 18}, page_content='WHAT IS BUSINESS\\nCASUAL\\xa0\\nWHAT TO WEAR:\\n \\nSKIRTS\\nSkirts are not only stylish, but versatile. Pencil skirts are always appropriate,\\nbut don’t rule out A-line and pleated styles. \\nInstead, just ensure the length and slit, if it has one, is suitable for your work\\nactivities such as walking, climbing stairs, or sitting.\\nKeep length at knee level if not an inch above. Pairing with tights or\\nstockings can help with the amount of bare skin showing at the office.Pencil Jean Crosby\\nJustin A. Rivera Issue 01'),\n",
       " Document(metadata={'source': '/Users/shreehari/Documents/GenAi projects/ecommercerag/csvragdatas/Attachment 2.pdf', 'page': 19}, page_content='WHAT IS BUSINESS\\nCASUAL\\xa0\\nWHAT TO WEAR:\\n \\nDRESSES\\nAlthough pants are a great option for business casual attire, dresses can add a some diversity\\nto your work wardrobe. \\xa0\\nDresses can also provide a polished femininity that’s perfect for business women. Just\\nensure that you pick appropriate styles, such as pencil, wrap or A-line designs, and that the\\nlength and fit are ideal for the office.KnittedMidi\\nPencilMidi\\nJustin A. Rivera Issue 01'),\n",
       " Document(metadata={'source': '/Users/shreehari/Documents/GenAi projects/ecommercerag/csvragdatas/Attachment 2.pdf', 'page': 20}, page_content='WHAT IS BUSINESS\\nCASUAL\\xa0\\nWHAT TO WEAR:\\n \\nSWEATERS\\nSweaters are an excellent addition to any business casual wardrobe. They are ideal for\\nwinter, as well as providing an extra touch of warmth when required. \\nInvest in a variety of sweaters in a range of basic colors, then wear them as tops with pants\\nand skirts or layer them over shirts and dressesCardiganCrew\\nNeckMock\\nNeck\\nJustin A. Rivera Issue 01'),\n",
       " Document(metadata={'source': '/Users/shreehari/Documents/GenAi projects/ecommercerag/csvragdatas/Attachment 2.pdf', 'page': 21}, page_content='WHAT IS BUSINESS\\nCASUAL\\xa0\\nWHAT TO WEAR:\\n \\nJACKETS/BLAZER\\nWhen trying to keep your outerwear appearing professional, opt for smart jackets and\\nblazers in classic colors, such as black or navy. \\nAlso, make sure that you select well-fitting designs that are comfortable to wear.Pea-CoatBlazer Wrap-Coat\\nJustin A. Rivera Issue 01'),\n",
       " Document(metadata={'source': '/Users/shreehari/Documents/GenAi projects/ecommercerag/csvragdatas/Attachment 2.pdf', 'page': 22}, page_content='WHAT IS BUSINESS\\nCASUAL\\xa0\\nWHAT TO WEAR:\\n \\nTOPS\\nShirts aren’t the only tops you can wear to work. Other styles, such as keyhole blouses, long\\nsleeve styles, and even smart tanks, can all be ideal for the office so long as you ensure the\\nneckline is modest. \\nCleavage is not appropriate for the work place.\\nAs for color, feel free to experiment with pops of pastels and jewel tones as well as subtle\\nprints. Just add classic pants or a skirt to balance any loud colours or patterns.Sleeveless\\nTopBlouseCollard\\nShirt\\nJustin A. Rivera Issue 01'),\n",
       " Document(metadata={'source': '/Users/shreehari/Documents/GenAi projects/ecommercerag/csvragdatas/Attachment 2.pdf', 'page': 23}, page_content='WHAT IS BUSINESS\\nCASUAL\\xa0\\nWHAT TO WEAR:\\n \\nSHOES\\nWhen it comes to business casual shoes women have many fantastic options, including\\xa0flats\\nlike loafers, brogues and ballet shoes, heels like comfortable kitten and block styles and\\nboots, which are ideal for winter. \\nWhichever you pick, just ensure they’re comfortable, un-scuffed and that any heel is an\\nappropriate\\xa0height. Also, keep embellishments, such as buckles and studs to a minimum.Mid - Heel Ankle\\nBootLoafers\\nJustin A. Rivera Issue 01'),\n",
       " Document(metadata={'source': '/Users/shreehari/Documents/GenAi projects/ecommercerag/csvragdatas/Attachment 2.pdf', 'page': 24}, page_content='WHAT IS BUSINESS\\nCASUAL\\nWHAT TO WEAR:\\n \\nACCESSORIES\\nMatch your metals\\nMatch your leathers\\nAccessorize one wrist only\\nKnow how much is too much (One Statement piece is enough)\\nKeep your aesthetic consistent\\nTry out new things \\n \\n \\nJustin A. Rivera Issue 01'),\n",
       " Document(metadata={'source': '/Users/shreehari/Documents/GenAi projects/ecommercerag/csvragdatas/Attachment 2.pdf', 'page': 25}, page_content='DRESS\\nFOR\\nSUCCESS\\nCARREER SUCCESS CENTER PRESENTS'),\n",
       " Document(metadata={'source': '/Users/shreehari/Documents/GenAi projects/ecommercerag/csvragdatas/Attachment 2.pdf', 'page': 26}, page_content=\"BEYOND \\nTHE BINARY\\nWHAT TO WEAR:\\n \\nBEYOND THE BINARY\\nConfidence is key\\xa0from the get-go, and it is hard to be confident\\xa0if\\xa0you\\xa0are\\xa0uncomfortable in your\\nclothing. Wear clothing that\\xa0matches your gender identity, but also\\xa0allows you to feel safe.\\xa0\\xa0\\nConsider a daily uniform. To avoid decision fatigue and make your mornings smoother, create a look\\nyou can wear every day.Wearing a uniform isn't new, as demonstrated by the likes of Mark Zuckerberg\\nand Barack Obama, who live this way.\\xa0This can help you\\xa0save\\xa0brainpower, time, and\\xa0help you\\xa0always feel\\ngood in what you are wearing.\\xa0If you do not have access to clothing you feel comfortable in, seek out\\nlocal resources and check out your near-by thrift shop.\\nObserve the level of professionalism.\\xa0Unless there is an industry standard, opt for business casual or\\nperhaps more professional attire for your first day on the job. Take note of how other employees are\\ndressed and base your degree of professional attire accordingly. To get a jump start on the standard dress\\ncode, you can also give a call to human resources ahead of your first day of work. \\n \\nJustin A. Rivera & CCSU LGBT Center Issue 01\"),\n",
       " Document(metadata={'source': '/Users/shreehari/Documents/GenAi projects/ecommercerag/csvragdatas/Attachment 2.pdf', 'page': 27}, page_content='BEYOND \\nTHE BINARY\\nWHAT TO WEAR:\\n \\nBEYOND THE BINARY\\nFind silhouettes and fits that feel affirming to your body. when shopping, try on different\\nsizes and observe how they all fall and frame your body. Take note of the shapes that look\\ngood to you and lean towards those. \\nPlay with different accessories that add a refined tone to your outfit. Things like watches, a\\nnice\\xa0belt, and clean, polished shoes will elevate your look. \\nFind staples in your wardrobe that you can build your daily uniform.\\nFind\\xa0yourself in a companies policies (dress code); keeping your identity within the business\\nculture.\\nContact HR to clarify expectation & find your footing within the culture.  \\nResearch\\xa0state laws, based on discrimination based on gender expression in public and\\nprivate employment, Connecticut for instance bans discrimination based on gender\\nexpression. Laws change constantly so make sure to get up to date information.  \\nJustin A. Rivera & CCSU LGBT Center Issue 01'),\n",
       " Document(metadata={'source': '/Users/shreehari/Documents/GenAi projects/ecommercerag/csvragdatas/Attachment 2.pdf', 'page': 28}, page_content='QUICK TIPS\\n GUIDE\\n-SHAPEWEAR-\\nJustin A. Rivera Issue 01'),\n",
       " Document(metadata={'source': '/Users/shreehari/Documents/GenAi projects/ecommercerag/csvragdatas/Attachment 2.pdf', 'page': 29}, page_content='QUICK TIPS\\nTAILORING\\nYour pants should feel comfortable around the waist. Always try pants on\\nwithout a belt. You should be able to keep them up on your own and they\\nshould not fall down when wearing them without a belt, but they shouldn’t be\\npinching your waist either.\\nThe front of your pants leg should have a slight break, where it meets your\\nshoes.\\nThe back of your pant leg should just reach the top of your shoe’s sole.\\nThe fabric at the end of the legs shouldn’t puddle.\\nMost trousers will need adjustments after you buy them to get the necessary\\nfit.Shoulder seams should rest on the edge of your shoulders; not on top of\\nthem and not over them.\\nThe cuffs of your shirt should end at the dimple of your wrist.\\nThere’s no stretching of fabric around the chest or the buttons.\\nWhen you tuck the shirt in, there is no excessive billowing around the waist.\\nYou can fit two fingers between the collar and your neck; no more and no\\nless.\\nThe collar should just graze your neck without constricting it. If turning your\\nhead causes the collar to turn with it, the collar is too tight. You should be\\nable to comfortably fit two fingers inside of your buttoned collar without it\\ntightening against your skin.Check the shoulders and chest. The jacket needs to fit in these places, as\\nthey’re the hardest to alter.\\nYour lapel jacket collar should lie flat against the front panels and the\\nbuttons should hang close to your stomach.\\nThe shoulder seams should rest at the corner of your shoulder, and the\\nsleeves shouldn’t have indents below the seam.\\nCuffs of your shirt should protrude about a quarter to half an inch from the\\njacket’s sleeves, when you’re standing with arms hanging by your side.\\nWhen your top button is closed, the jacket should show no X-\\nshaped stretching.\\nThe back of the jacket should just about cover your butt.-JACKETS-\\n-SHIRTS-\\n-TROUSERS-\\nJustin A. Rivera Issue 01'),\n",
       " Document(metadata={'source': '/Users/shreehari/Documents/GenAi projects/ecommercerag/csvragdatas/Attachment 2.pdf', 'page': 30}, page_content='QUICK TIPS\\nTAILORING\\nIgnore the size! Look for something that fits your widest body part, and then tailor\\neverything else down.\\nAll women, especially those with a large bust line, should avoid sizing down into too-\\nsmall shirts to get a snug fit at the waistline. You almost always want a garment to\\ncontour your waistline, but achieve it through tailoring.\\nFor the most flattering skirt or cropped pant length, whether a mini, knee, midi, or\\nankle length, always hem to the point on your leg that begins a taper.\\nPants should fit nicely through the hips, not too baggy and not skintight. They should\\nbe hemmed specific to the shoe height you will be wearing. Hem pants so there is a\\nslight break in the front and no more than 1/2 inch from the floor in the back. This will\\ncreate the illusion of leaner, longer legs.-SUGGESTIONS-\\nBefore After\\nJustin A. Rivera Issue 01'),\n",
       " Document(metadata={'source': '/Users/shreehari/Documents/GenAi projects/ecommercerag/csvragdatas/Attachment 2.pdf', 'page': 31}, page_content='GUIDE TO MATCHING\\nPATTERNS\\nJustin A. Rivera Issue 01'),\n",
       " Document(metadata={'source': '/Users/shreehari/Documents/GenAi projects/ecommercerag/csvragdatas/Attachment 2.pdf', 'page': 32}, page_content='QUICK TIPS\\n GUIDE\\n-FOUR IN A HAND-\\n-BOWTIE-\\nJustin A. Rivera Issue 01'),\n",
       " Document(metadata={'source': '/Users/shreehari/Documents/GenAi projects/ecommercerag/csvragdatas/Attachment 2.pdf', 'page': 33}, page_content=\"QUICK TIPS\\n GUIDE\\nJustin A. Rivera Issue 01TRIANGLE BODY SHAPE\\nChoose: Jackets with shoulder padding and a narrow athletic cut will emphasize your shoulders and make the top half of your body\\nappear more weighted, giving you more balanced proportions. Fit at the shoulders is the #1 priority when it comes to sizing a jacket,\\nand that's especially true for you. Tailors are your friend.\\nA v o i d: Avoid double-breasted jackets – they can make you look bulky.\\nINVERTED TRIANGLE BODY SHAPE\\nChoose: Close-fitting clothes reduce visual clutter and show clean, sharp look. Wearing slim-fit shirts is great but remember to size\\nup. You want to hint subtly at your fitness, not scream it by wearing figure-hugging clothes.\\nA v o i d: Jackets and blazers with shoulder pads – your natural body shape already has enough width in the shoulders. Avoid skinny\\njeans and extra slim fitted trousers because these will make your top half look disproportionately wide.\\nRECTANGLE BODY SHAPE\\nChoose: Find a suit jacket with as many pockets as possible, as this helps to draw the attention away from the straightness of your\\nfigure and helps to create more horizontal lines on your body.\\nA v o i d: Instead of tight or slim fit trousers (these will emphasize your thin legs) go for a more relaxed fit (straight cut) instead.\\nOVAL OR APPLE BODY SHAPE\\nChoose: Trousers and shirts or sweaters which are the same color will create a slimming effect. Avoid contrasting colors, which will\\ndraw attention to your larger stomach area. Opt for navy or charcoal; darker colors are more slimming.\\nA v o i d: Avoid pants which bunch at the bottom of your leg. This will draw attention to this area and make your legs appear shorter\\nthan they actually are.TRAPEZOID BODY SHAPE\\nChoose: Vertical stripes will make you appear a little taller. Checks and plaids add horizontal bulk, so pick which one you need based\\non your height.\\nA v o i d: The biggest no-nos are anything loose and saggy,\"),\n",
       " Document(metadata={'source': '/Users/shreehari/Documents/GenAi projects/ecommercerag/csvragdatas/Attachment 2.pdf', 'page': 34}, page_content='Justin A. Rivera Issue 01QUICK TIPS\\n GUIDE'),\n",
       " Document(metadata={'source': '/Users/shreehari/Documents/GenAi projects/ecommercerag/csvragdatas/Attachment 2.pdf', 'page': 35}, page_content='')]"
      ]
     },
     "execution_count": 8,
     "metadata": {},
     "output_type": "execute_result"
    }
   ],
   "source": [
    "loader_all = MergedDataLoader(loaders=[web_loader,pdf_loader])\n",
    "docs_all = loader_all.load()\n",
    "docs_all"
   ]
  },
  {
   "attachments": {},
   "cell_type": "markdown",
   "metadata": {},
   "source": [
    "## Converting the data into chunks"
   ]
  },
  {
   "cell_type": "code",
   "execution_count": 9,
   "metadata": {},
   "outputs": [
    {
     "data": {
      "text/plain": [
       "[Document(metadata={'source': 'https://www.amazon.in/s?rh=n%3A1968120031&fs=true&ref=lp_1968120031_sar', 'title': 'Amazon.in', 'language': 'en-in'}, page_content=\"Amazon.in\\n\\n\\n\\n\\n\\n\\n\\n\\n\\n\\n\\n\\n\\n\\n\\n\\n\\n\\n\\n\\n\\n\\n\\n\\n\\n\\n\\n\\n\\n\\n\\n\\n\\n\\n\\n\\n\\n\\n\\n\\n\\nSkip to main content\\n\\n\\n\\n\\n\\n\\n\\n\\n\\n\\n.in\\n\\n\\n\\n\\n\\n\\n\\n\\n\\n                   Delivering to Coimbatore 641014\\n                \\n\\n                   Update location\\n                \\n\\n\\n\\n\\n\\n\\n\\n\\n\\n\\n\\n\\n\\n\\n\\n\\n\\n\\n\\n\\nMen's T-shirts, Polos & Shirts\\n\\n\\nSelect the department you want to search in\"),\n",
       " Document(metadata={'source': 'https://www.amazon.in/s?rh=n%3A1968120031&fs=true&ref=lp_1968120031_sar', 'title': 'Amazon.in', 'language': 'en-in'}, page_content=\"Update location\\n                \\n\\n\\n\\n\\n\\n\\n\\n\\n\\n\\n\\n\\n\\n\\n\\n\\n\\n\\n\\n\\nMen's T-shirts, Polos & Shirts\\n\\n\\nSelect the department you want to search in\\n\\nMen's T-shirts, Polos & Shirts\\nAll Categories\\nAlexa Skills\\nAmazon Devices\\nAmazon Fashion\\nAmazon Fresh\\nAmazon Pharmacy\\nAppliances\\nApps & Games\\nAudible Audiobooks\\nBaby\\nBeauty\\nBooks\\nCar & Motorbike\\nClothing & Accessories\\nCollectibles\\nComputers & Accessories\\nDeals\\nElectronics\\nFurniture\\nGarden & Outdoors\\nGift Cards\\nGrocery & Gourmet Foods\\nHealth & Personal Care\\nHome & Kitchen\\nIndustrial & Scientific\\nJewellery\\nKindle Store\\nLuggage & Bags\\nLuxury Beauty\\nMovies & TV Shows\\nMP3 Music\\nMusic\\nMusical Instruments\\nOffice Products\\nPet Supplies\\nPrime Video\\nShoes & Handbags\\nSoftware\\nSports, Fitness & Outdoors\\nSubscribe & Save\\nTools & Home Improvement\\nToys & Games\\nUnder ₹500\\nVideo Games\\nWatches\\n\\n\\n\\n\\n\\n\\nSearch Amazon.in\\n\\n\\n\\n\\n\\n\\n\\n\\n\\n\\n\\n\\n\\n\\n\\n\\n\\n\\n\\n\\n\\n\\n\\n\\nEN\\n\\n\\n\\n\\n\\nHello, sign in\\nAccount & Lists\\n\\n\\n\\nReturns\\n& Orders\\n\\n\\n\\n0\\n\\n\\n\\n\\n\\n\\n        Cart\\n        \\n\\n\\n\\n\\n\\n\\n\\n\\n\\n\\n\\n\\nAll\"),\n",
       " Document(metadata={'source': 'https://www.amazon.in/s?rh=n%3A1968120031&fs=true&ref=lp_1968120031_sar', 'title': 'Amazon.in', 'language': 'en-in'}, page_content=\"Search Amazon.in\\n\\n\\n\\n\\n\\n\\n\\n\\n\\n\\n\\n\\n\\n\\n\\n\\n\\n\\n\\n\\n\\n\\n\\n\\nEN\\n\\n\\n\\n\\n\\nHello, sign in\\nAccount & Lists\\n\\n\\n\\nReturns\\n& Orders\\n\\n\\n\\n0\\n\\n\\n\\n\\n\\n\\n        Cart\\n        \\n\\n\\n\\n\\n\\n\\n\\n\\n\\n\\n\\n\\nAll\\n\\n\\n\\n\\n\\n\\n\\n\\n\\n\\nFresh\\nAmazon miniTV\\nSell\\nBest Sellers\\nToday's Deals\\nMobiles\\nCustomer Service\\nPrime\\n Electronics \\nFashion\\nNew Releases\\nAmazon Pay\\nHome & Kitchen\\nComputers\\nBooks\\nCar & Motorbike\\nBeauty & Personal Care\\nHome Improvement\\nGift Ideas\\t\\nToys & Games\\nSports, Fitness & Outdoors\\nGift Cards\\nCustom Products\\nGrocery & Gourmet Foods\\nHealth, Household & Personal Care\\nBaby\\nVideo Games\\nPet Supplies\\nAudible\\nAmazonBasics\\nSubscribe & Save\\nCoupons\\n\\n\\n\\n\\n\\n\\n\\n\\n\\n\\n\\n\\n\\n\\n\\n\\n\\n\\n\\n\\n\\n\\n\\n\\n\\n\\n      Women\\n      \\n    \\n\\n\\n\\n\\n      Men\\n      \\n    \\n\\n\\n\\n\\n      Kids\\n      \\n    \\n\\n\\n\\n\\n      Bags & Luggage\\n      \\n    \\n\\n\\n\\n\\n      Sportswear\\n      \\n    \\n\\n\\n\\n\\n      Sales & Deals\\n      \\n    \\n\\n\\n\\n\\n\\n\\n\\n\\n\\n\\n\\n\\n\\n\\n\\n\\n\\n\\n\\n\\n\\n\\n\\n\\n\\n\\n\\n\\n\\n\\n\\n\\n1-48 of over 40,000 results\"),\n",
       " Document(metadata={'source': 'https://www.amazon.in/s?rh=n%3A1968120031&fs=true&ref=lp_1968120031_sar', 'title': 'Amazon.in', 'language': 'en-in'}, page_content=\"Bags & Luggage\\n      \\n    \\n\\n\\n\\n\\n      Sportswear\\n      \\n    \\n\\n\\n\\n\\n      Sales & Deals\\n      \\n    \\n\\n\\n\\n\\n\\n\\n\\n\\n\\n\\n\\n\\n\\n\\n\\n\\n\\n\\n\\n\\n\\n\\n\\n\\n\\n\\n\\n\\n\\n\\n\\n\\n1-48 of over 40,000 results\\n\\n\\n\\n\\n\\n\\n\\n\\n\\n\\n\\n\\n\\n\\n\\nSort by:\\nFeatured\\nPrice: Low to High\\nPrice: High to Low\\nAvg. Customer Review\\nNewest Arrivals\\nBest Sellers\\nSort by:Featured\\nGo\\n\\n\\n\\n\\n\\n\\n\\n\\n\\n\\n\\n\\n\\n\\n\\n\\nResults\\n\\nPrice and other details may vary based on product size and colour.\\n\\n\\n\\n\\n\\n\\n\\n\\n\\n\\n\\n+4 colors/patternsSponsoredSponsored You are seeing this ad based on the product’s relevance to your search query.Let us know  SKYKNITMen's Solid Cotton Pocket Polo T-Shirt  ₹489₹489 M.R.P: ₹999₹999 (51% off)\\n\\n\\n\\n\\n\\n\\n+4 colors/patternsSponsoredSponsored You are seeing this ad based on the product’s relevance to your search query.Let us know  SKYKNITMen's Solid Cotton Polo T-Shirt  ₹469₹469 M.R.P: ₹999₹999 (53% off)\"),\n",
       " Document(metadata={'source': 'https://www.amazon.in/s?rh=n%3A1968120031&fs=true&ref=lp_1968120031_sar', 'title': 'Amazon.in', 'language': 'en-in'}, page_content=\"Dixcy ScottOriginals Men’s White Vest Modern Fit innerwear - Claz Vest Rn (Pack of 3)  4.0 out of 5 stars 5,039  1K+ bought in past month₹259₹259 M.R.P: ₹399₹399 (35% off)5% coupon applied at checkoutSave 5%  with coupon (limited sizes/colours) FREE Delivery by Amazon\\nScott InternationalMen's Regular Fit T-Shirt - Cotton Blend, Half Sleeve, Round Neck, Stylish, Solid Plain T-Shirts for Men, mens t shirt - Pack of 3  3.7 out of 5 stars 40,225  1K+ bought in past monthLimited time deal  ₹549₹549 M.R.P: ₹2,397₹2,397 (77% off)₹250 coupon applied at checkoutSave ₹250  with coupon (limited sizes/colours)  FREE Delivery by Amazon\\nBest sellerin Men's T-Shirts  LymioMen T-Shirt || T-Shirt for Men || Plain T Shirt || T-Shirt (Polo-18-21)  3.6 out of 5 stars 878  1K+ bought in past monthLimited time deal  ₹379₹379 M.R.P: ₹2,999₹2,999 (87% off)FREE Delivery by Amazon\\n\\n\\n\\n\\nMore results\"),\n",
       " Document(metadata={'source': 'https://www.amazon.in/s?rh=n%3A1968120031&fs=true&ref=lp_1968120031_sar', 'title': 'Amazon.in', 'language': 'en-in'}, page_content=\"Levi's012 Classic Vest for Men with Side Branding, Tag Free Comfort & Smartskin Technology  4.2 out of 5 stars 13,720  800+ bought in past month₹448₹448 M.R.P: ₹675₹675 (34% off)10% coupon applied at checkoutSave 10%  with coupon (limited sizes/colours) FREE Delivery by Amazon\\nBest sellerin Men's Polos  +22Amazon Brand - SymbolMen's Cotton Rich Polo T Shirt | Collar Tshirts | Half Sleeves | Plain - Regular Fit  3.9 out of 5 stars 29,013  700+ bought in past monthLimited time deal  ₹359₹359 M.R.P: ₹1,099₹1,099 (67% off)FREE Delivery by Amazon\\n+13Allen SollyMen's Regular Fit Polo  4.1 out of 5 stars 70,298  800+ bought in past month₹799₹799 M.R.P: ₹1,099₹1,099 (27% off) FREE Delivery by Amazon\\nDixcy ScottOriginals Men’s Round Neck Sleeveless Body Fit Solid Vest - Victory Vest- Assorted - Print & Color May be Vary (Pack of 2)  4.1 out of 5 stars 9,293  ₹246₹246 M.R.P: ₹399₹399 (38% off)5% coupon applied at checkoutSave 5%  with coupon (limited sizes/colours) FREE Delivery by Amazon\"),\n",
       " Document(metadata={'source': 'https://www.amazon.in/s?rh=n%3A1968120031&fs=true&ref=lp_1968120031_sar', 'title': 'Amazon.in', 'language': 'en-in'}, page_content='+6BULLMERBlack Trendy Front and Back Printed oversized Round Neck T-shirt for men  3.4 out of 5 stars 1,196  600+ bought in past month₹298₹298 M.R.P: ₹1,499₹1,499 (80% off)FREE Delivery by Amazon\\n+2LEOTUDEMen Half Sleeve Oversized Tshirt, Round Neck Longline Drop Shoulder | Colorful Printed Combo Regular Fit T-Shirt (Pack Of 3)  3.6 out of 5 stars 528  600+ bought in past monthLimited time deal  ₹699₹699 M.R.P: ₹1,599₹1,599 (56% off) FREE Delivery by Amazon'),\n",
       " Document(metadata={'source': 'https://www.amazon.in/s?rh=n%3A1968120031&fs=true&ref=lp_1968120031_sar', 'title': 'Amazon.in', 'language': 'en-in'}, page_content='More results'),\n",
       " Document(metadata={'source': 'https://www.amazon.in/s?rh=n%3A1968120031&fs=true&ref=lp_1968120031_sar', 'title': 'Amazon.in', 'language': 'en-in'}, page_content=\"+3Van HeusenMen's Solid T Shirt  4.1 out of 5 stars 2,031  600+ bought in past month₹379₹379 M.R.P: ₹999₹999 (62% off)FREE Delivery by Amazon\\n+4Noble MonkMen's Regular Fit Polo Neck T-shirt | Half Sleeve | Stripe On Chest | Collared Neck Tshirt for Men  3.5 out of 5 stars 4  100+ bought in past monthLimited time deal  ₹319₹319 M.R.P: ₹1,299₹1,299 (75% off)FREE Delivery by Amazon\\n+4Jockey9930 Men's Super Combed Cotton Rib Solid Round Neck Muscle Vest  4.2 out of 5 stars 8,244  400+ bought in past month₹348₹348 M.R.P: ₹399₹399 (13% off)FREE Delivery by Amazon\\n+11Lux CoziMen's Regular Fit Polo Neck Half Sleeve Solid Casual T-Shirt | Polo T-Shirt for Men  3.9 out of 5 stars 2,636  400+ bought in past month₹339₹339 M.R.P: ₹380₹380 (11% off)FREE Delivery by Amazon\\n+12Van HeusenMen's Solid Polo T Shirt  4.0 out of 5 stars 37,311  400+ bought in past month₹899₹899 M.R.P: ₹1,099₹1,099 (18% off) FREE Delivery by Amazon\"),\n",
       " Document(metadata={'source': 'https://www.amazon.in/s?rh=n%3A1968120031&fs=true&ref=lp_1968120031_sar', 'title': 'Amazon.in', 'language': 'en-in'}, page_content=\"+12Van HeusenMen's Solid Polo T Shirt  4.0 out of 5 stars 37,311  400+ bought in past month₹899₹899 M.R.P: ₹1,099₹1,099 (18% off) FREE Delivery by Amazon\\nLymioCasual Shirt for Men|| Shirt for Men|| Men Stylish Shirt (Rib-Shirt)  3.9 out of 5 stars 1,075  500+ bought in past monthLimited time deal  ₹479₹479 M.R.P: ₹3,999₹3,999 (88% off)FREE Delivery by Amazon\\nJockeyMen's Inner Regular Fit T Shirt  4.0 out of 5 stars 2,216  400+ bought in past month₹299₹299 M.R.P: ₹379₹379 (21% off)FREE Delivery by Amazon\\nBest sellerin Men's Shirts  +22Dennis LingoMen's Solid Slim Fit Cotton Casual Shirt with Spread Collar & Full Sleeves (Also Available in Plus Size)  3.8 out of 5 stars 37,991  400+ bought in past month₹499₹499 M.R.P: ₹1,849₹1,849 (73% off) FREE Delivery by Amazon\\n+5Allen SollyMen's Slim Fit Shirt  3.7 out of 5 stars 15,183  500+ bought in past month₹869₹869 M.R.P: ₹1,499₹1,499 (42% off) FREE Delivery by Amazon\"),\n",
       " Document(metadata={'source': 'https://www.amazon.in/s?rh=n%3A1968120031&fs=true&ref=lp_1968120031_sar', 'title': 'Amazon.in', 'language': 'en-in'}, page_content=\"+5Allen SollyMen's Slim Fit Shirt  3.7 out of 5 stars 15,183  500+ bought in past month₹869₹869 M.R.P: ₹1,499₹1,499 (42% off) FREE Delivery by Amazon\\nLux CoziMen's Round Neck Sleeveless 100% Cotton Vest with Extended Length for Easy Tuck - Pack of 3 (Color & Prints May Vary)  3.9 out of 5 stars 3,783  ₹435₹435 M.R.P: ₹483₹483 (10% off)FREE Delivery by Amazon\\nVIP SupremeMen's Sleeveless Cotton Vest (Pack of 5)  3.9 out of 5 stars 4,833  400+ bought in past month₹499₹499 M.R.P: ₹575₹575 (13% off) FREE Delivery by Amazon\\nLeriya Fashiont shirt for men| white t shirt for men| black drop shoulder t-shirt for men  3.9 out of 5 stars 481  500+ bought in past month₹399₹399 M.R.P: ₹1,999₹1,999 (80% off)FREE Delivery by Amazon\\n+5Amazon Brand - SymbolMen's Solid Cotton Formal Shirt | Plain | Full Sleeve - Regular Fit (Available in Plus Size)  3.9 out of 5 stars 9,157  Limited time deal  ₹549₹549 M.R.P: ₹1,599₹1,599 (66% off) FREE Delivery by Amazon\"),\n",
       " Document(metadata={'source': 'https://www.amazon.in/s?rh=n%3A1968120031&fs=true&ref=lp_1968120031_sar', 'title': 'Amazon.in', 'language': 'en-in'}, page_content=\"VIPSupreme Men's Cotton Vest (Pack of 3)  3.9 out of 5 stars 2,705  300+ bought in past month₹297₹297FREE Delivery by Amazon\\n+5LEOTUDEMen's Regular Fit Half Sleeve Round Neck Dri-Fit Tshirt (Color Black)  4.0 out of 5 stars 58  300+ bought in past monthLimited time deal  ₹498₹498 M.R.P: ₹1,099₹1,099 (55% off)FREE Delivery by Amazon\\nLEOTUDERegular Fit Half Sleeve Round Neck Dri-Fit Tshirt for Men's Combo (Pack of 3)  3.9 out of 5 stars 355  400+ bought in past monthLimited time deal  ₹498₹498 M.R.P: ₹1,099₹1,099 (55% off)FREE Delivery by Amazon\\nLymioMen T-Shirt || Regular Fit T-Shirt for Men || Plain T Shirt || T-Shirt (Polo-06-10)  4.0 out of 5 stars 1,172  300+ bought in past monthLimited time deal  ₹349₹349 M.R.P: ₹2,999₹2,999 (88% off)FREE Delivery by Amazon\\nJockey8823 Men's Super Combed Cotton Rib Round Neck Sleeveless Vest with Stay Fresh Properties  4.3 out of 5 stars 527  400+ bought in past month₹209₹209FREE Delivery by Amazon\"),\n",
       " Document(metadata={'source': 'https://www.amazon.in/s?rh=n%3A1968120031&fs=true&ref=lp_1968120031_sar', 'title': 'Amazon.in', 'language': 'en-in'}, page_content=\"Jockey8823 Men's Super Combed Cotton Rib Round Neck Sleeveless Vest with Stay Fresh Properties  4.3 out of 5 stars 527  400+ bought in past month₹209₹209FREE Delivery by Amazon\\n+40Amazon Brand - SymbolMen's Cotton T Shirt | Round Neck | Half Sleeve | Plain - Regular Fit (Available in Plus Size)  4.0 out of 5 stars 4,370  300+ bought in past monthLimited time deal  ₹299₹299 M.R.P: ₹699₹699 (57% off)FREE Delivery by Amazon\\nAmazon's Choice  Levi'sMen's Regular Fit T-Shirt  4.1 out of 5 stars 4,264  200+ bought in past month₹376₹376 M.R.P: ₹579₹579 (35% off)5% coupon applied at checkoutSave 5%  with coupon (limited sizes/colours) FREE Delivery by Amazon\\n+9VeirdoOversized Baggy Fit Drop Shoulder Half Sleeves Round Neck Solid Pure 100% Cotton T-Shirt for Men (Available in White, Black, Mustard, Maroon, Green, Lilac, Navy, Red Color)  4.0 out of 5 stars 442  300+ bought in past month₹329₹329 M.R.P: ₹1,099₹1,099 (70% off)FREE Delivery by Amazon\"),\n",
       " Document(metadata={'source': 'https://www.amazon.in/s?rh=n%3A1968120031&fs=true&ref=lp_1968120031_sar', 'title': 'Amazon.in', 'language': 'en-in'}, page_content=\"+4 colors/patternsFUNKY RICHFunkyrich® Textured Popcorn Shirts for Men || Casual Shirt for Men || Shirt for Men|| Men Stylish Half Sleeve Shirt || Men Fancy Shirt || Self Design Lapel Collar Casual Shirt  4.7 out of 5 stars 4  100+ bought in past month₹399₹399 M.R.P: ₹999₹999 (60% off)\\nGRECIILOOKSMen's Regular Fit Shirt  4.0 out of 5 stars 928  300+ bought in past monthLimited time deal  ₹479₹479 M.R.P: ₹2,299₹2,299 (79% off)FREE Delivery by Amazon\\nI ENTERPRISECotton Blend Regular Fit Round Neck Plain Solid Full Sleeve T-Shirt for Men-&-Boys  4.4 out of 5 stars 36  100+ bought in past monthLimited time deal  ₹399₹399 M.R.P: ₹1,499₹1,499 (73% off)FREE Delivery by Amazon\\n+6BULLMERPeach Trendy Front Printed oversized Round Neck T-shirt for men  3.5 out of 5 stars 732  300+ bought in past month₹298₹298 M.R.P: ₹1,499₹1,499 (80% off)FREE Delivery by Amazon\"),\n",
       " Document(metadata={'source': 'https://www.amazon.in/s?rh=n%3A1968120031&fs=true&ref=lp_1968120031_sar', 'title': 'Amazon.in', 'language': 'en-in'}, page_content=\"+6BULLMERPeach Trendy Front Printed oversized Round Neck T-shirt for men  3.5 out of 5 stars 732  300+ bought in past month₹298₹298 M.R.P: ₹1,499₹1,499 (80% off)FREE Delivery by Amazon\\nLeriya FashionMen's Regular Fit Polo T-Shirt T-Shirt  4.4 out of 5 stars 82  300+ bought in past monthLimited time deal  ₹309₹309 M.R.P: ₹1,999₹1,999 (85% off)FREE Delivery by Amazon\\n+4CB-COLEBROOKMen's Casual Button Down Shirts Long Sleeve Linen Shirt Fashion Textured Beach Summer Shirt  4.1 out of 5 stars 72  ₹499₹499 M.R.P: ₹2,195₹2,195 (77% off) FREE Delivery by Amazon\\n+5PinkmintMens Long Sleeve Button Down Shirt for Men Collared Casual Formal Soild Shirt  4.0 out of 5 stars 424  100+ bought in past monthLimited time deal  ₹349₹349 M.R.P: ₹1,999₹1,999 (83% off)FREE Delivery by Amazon\"),\n",
       " Document(metadata={'source': 'https://www.amazon.in/s?rh=n%3A1968120031&fs=true&ref=lp_1968120031_sar', 'title': 'Amazon.in', 'language': 'en-in'}, page_content=\"LEOTUDEMen's Regular Fit Half Sleeve Matty Polo T-Shirt | Plus Size Also Available (Color Multicolor)  3.6 out of 5 stars 2,495  200+ bought in past monthLimited time deal  ₹298₹298 M.R.P: ₹1,099₹1,099 (73% off)FREE Delivery by Amazon\\n+2DEELMOMen's Cotton Blend Mandarin Collar Self One Design Full Sleeve Casual Short Kurta  3.2 out of 5 stars 179  300+ bought in past month₹494₹494 M.R.P: ₹2,199₹2,199 (78% off)FREE Delivery by Amazon\\n+7FTXMen's T-Shirt  3.8 out of 5 stars 889  200+ bought in past month₹449₹449 M.R.P: ₹1,249₹1,249 (64% off)FREE Delivery by Amazon\\nTagdoMen's Waffle Knitted Crew Neck Regular Fit Tees  4.4 out of 5 stars 348  300+ bought in past month₹299₹299 M.R.P: ₹1,399₹1,399 (79% off)FREE Delivery by Amazon\\n+14AUSKT-shirt for Mens Double Stripes on Chest  3.1 out of 5 stars 1,269  200+ bought in past monthLimited time deal  ₹219₹219 M.R.P: ₹1,499₹1,499 (85% off)2% coupon applied at checkoutSave 2%  with coupon (limited sizes/colours) FREE Delivery by Amazon\"),\n",
       " Document(metadata={'source': 'https://www.amazon.in/s?rh=n%3A1968120031&fs=true&ref=lp_1968120031_sar', 'title': 'Amazon.in', 'language': 'en-in'}, page_content=\"Dixcy ScottMen Vest  3.8 out of 5 stars 12,348  200+ bought in past month₹299₹299 M.R.P: ₹431₹431 (31% off)5% coupon applied at checkoutSave 5%  with coupon (limited sizes/colours) FREE Delivery by Amazon\\nU.S. POLO ASSN.Men's Regular Fit T-Shirt  4.0 out of 5 stars 8,855  100+ bought in past month₹449₹449 M.R.P: ₹749₹749 (40% off)FREE Delivery by Amazon\\n+3JockeyMen's Regular Fit Racer Back Shirt  4.2 out of 5 stars 8,841  300+ bought in past month₹339₹339FREE Delivery by Amazon\\nBoldfitSports T Shirt for Men Quick Dry Fit Tshirt for Men Gym T Shirts for Men for Casual Wear Workout T Shirts for Man Active Gym Wear for Men Running T-Shirts for Men T Shirt for Man  4.8 out of 5 stars 67  100+ bought in past month₹399₹399 M.R.P: ₹999₹999 (60% off)FREE Delivery by Amazon\\nLEOTUDEHalf Regular Fit Sleeve Men's Polo T-Shirt Combo (Pack of 3)  3.6 out of 5 stars 375  100+ bought in past monthLimited time deal  ₹799₹799 M.R.P: ₹1,599₹1,599 (50% off) FREE Delivery by Amazon\"),\n",
       " Document(metadata={'source': 'https://www.amazon.in/s?rh=n%3A1968120031&fs=true&ref=lp_1968120031_sar', 'title': 'Amazon.in', 'language': 'en-in'}, page_content=\"LEOTUDEHalf Regular Fit Sleeve Men's Polo T-Shirt Combo (Pack of 3)  3.6 out of 5 stars 375  100+ bought in past monthLimited time deal  ₹799₹799 M.R.P: ₹1,599₹1,599 (50% off) FREE Delivery by Amazon\\nScott InternationalShirt for men, Solid Full Sleeves shirt, Wrinkle Free Mens shirts, Cotton Formal Shirts, Regular Fit stylish mens shirt, Plain Formal Shirts for Men  3.9 out of 5 stars 87  300+ bought in past monthLimited time deal  ₹799₹799 M.R.P: ₹1,699₹1,699 (53% off)₹300 coupon applied at checkoutSave ₹300  with coupon (limited sizes/colours)  FREE Delivery by Amazon\"),\n",
       " Document(metadata={'source': 'https://www.amazon.in/s?rh=n%3A1968120031&fs=true&ref=lp_1968120031_sar', 'title': 'Amazon.in', 'language': 'en-in'}, page_content=\"Previous123...400Next\\n\\n\\n\\n\\n\\nNeed help?\\n\\nVisit the help section or contact us\\n\\n\\n\\n\\n\\n\\n\\n\\n\\n\\n\\n\\n\\n\\n\\n\\n\\n\\n\\n\\n\\n\\n\\n                  Go back to filtering menu\\n              \\n\\n\\n\\n\\n\\n\\n                  Skip to main search results\\n              \\n\\n\\n\\n\\n\\n\\n\\n\\n\\nDelivery Day\\n\\n\\n\\n\\n\\n\\n\\nGet It Today\\n\\n\\n\\n\\n\\n\\n\\nGet It by Tomorrow\\n\\n\\n\\n\\n\\n\\n\\nGet It in 2 Days\\n\\n\\n\\n\\n\\n\\n\\n\\nCategory\\n\\n\\n\\n\\n\\n\\n\\nClothing & Accessories\\n\\n\\n\\n\\n\\nMen's Clothing\\n\\n\\n\\nMen's T-shirts, Polos & Shirts\\n\\n\\n\\nMen's T-Shirts\\n\\n\\n\\n\\nMen's Shirts\\n\\n\\n\\n\\nMen's Polos\\n\\n\\n\\n\\nMen's Tank Tops\\n\\n\\n\\n\\n\\n\\n\\n\\nCustomer Reviews\\n\\n\\n\\n\\n\\n\\n\\n4 Stars & Up\\n& Up\\n\\n\\n\\n\\n\\n\\n\\n\\n\\nBrands\\n\\n\\n\\n\\n\\n\\n\\nAmazon Brand - Symbol\\n\\n\\n\\n\\n\\n\\n\\nAllen Solly\\n\\n\\n\\n\\n\\n\\n\\nVan Heusen\\n\\n\\n\\n\\n\\n\\n\\nU.S. POLO ASSN.\\n\\n\\n\\n\\n\\n\\n\\nJockey\\n\\n\\n\\n\\n\\n\\n\\nPeter England\\n\\n\\n\\n\\n\\n\\n\\nLevi's\\n\\n\\n\\n\\n\\n\\n\\n\\n\\n\\n\\nVeirdo\\n\\n\\n\\n\\n\\n\\n\\nLEOTUDE\\n\\n\\n\\n\\n\\n\\n\\nAmazon Brand - INKAST\\n\\n\\n\\n\\n\\nSee more\\n\\n\\n\\n\\n\\n\\n\\n\\nPrice\\n\\n\\n\\n\\n\\n\\n\\n\\n\\n\\n\\n\\n\\n\\n₹115\\n\\n\\n–\\n\\n\\n₹4,700+\\n\\n\\n\\n\\n\\n\\n\\n\\n\\n\\n\\n\\n\\nGo\\n\\n\\n\\n\\n\\n\\n\\n\\nDeals & Discounts\\n\\n\\n\\n\\n\\n\\nAll Discounts\\n\\n\\n\\n\\n\\n\\nToday's Deals\\n\\n\\n\\n\\n\\n\\n\\n\\nAmazon Fashion\\n\\n\\n\\n\\n\\n\\n\\nTop Brands\\n\\n\\n\\n\\n\\n\\n\\nMade for Amazon\\n\\n\\n\\n\\n\\n\\n\\nPremium Brands\"),\n",
       " Document(metadata={'source': 'https://www.amazon.in/s?rh=n%3A1968120031&fs=true&ref=lp_1968120031_sar', 'title': 'Amazon.in', 'language': 'en-in'}, page_content=\"₹115\\n\\n\\n–\\n\\n\\n₹4,700+\\n\\n\\n\\n\\n\\n\\n\\n\\n\\n\\n\\n\\n\\nGo\\n\\n\\n\\n\\n\\n\\n\\n\\nDeals & Discounts\\n\\n\\n\\n\\n\\n\\nAll Discounts\\n\\n\\n\\n\\n\\n\\nToday's Deals\\n\\n\\n\\n\\n\\n\\n\\n\\nAmazon Fashion\\n\\n\\n\\n\\n\\n\\n\\nTop Brands\\n\\n\\n\\n\\n\\n\\n\\nMade for Amazon\\n\\n\\n\\n\\n\\n\\n\\nPremium Brands\\n\\n\\n\\n\\n\\n\\nSleeve Cuff Style\\n\\n\\n\\n\\n\\n\\n\\nAngle Cut Cuff\\n\\n\\n\\n\\n\\n\\n\\nBarrel Cuff\\n\\n\\n\\n\\n\\n\\n\\nRibbed Cuff\\n\\n\\n\\n\\n\\n\\n\\nRound Cut Cuff\\n\\n\\n\\n\\n\\n\\n\\nSingle Cuff\\n\\n\\n\\n\\n\\n\\nMen's Clothing Size\\n\\n\\n\\n\\n\\n\\n\\n2XS\\n\\n\\n\\n\\n\\n\\n\\n\\nXS\\n\\n\\n\\n\\n\\n\\n\\n\\nS\\n\\n\\n\\n\\n\\n\\n\\n\\nM\\n\\n\\n\\n\\n\\n\\n\\n\\nL\\n\\n\\n\\n\\n\\n\\n\\n\\nXL\\n\\n\\n\\n\\n\\n\\n\\n\\n2XL\\n\\n\\n\\n\\n\\n\\n\\n\\n3XL\\n\\n\\n\\n\\n\\n\\n\\n\\n4XL\\n\\n\\n\\n\\n\\n\\n\\n\\n5XL\\n\\n\\n\\n\\n\\n\\n\\n\\n6XL\\n\\n\\n\\n\\n\\n\\n\\nSpecial Features\\n\\n\\n\\n\\n\\n\\n\\nBreathable\\n\\n\\n\\n\\n\\n\\n\\nLightweight\\n\\n\\n\\n\\n\\n\\n\\nMoisture Wicking\\n\\n\\n\\n\\n\\n\\n\\nQuick Dry\\n\\n\\n\\n\\n\\n\\n\\nSun Protection\\n\\n\\n\\n\\n\\n\\n\\nAdjustable\\n\\n\\n\\n\\n\\n\\n\\nConvertible\\n\\n\\n\\n\\n\\n\\n\\n\\n\\n\\n\\nStretchable\\n\\n\\n\\n\\n\\n\\n\\nSustainable\\n\\n\\n\\n\\n\\nSee more\\n\\n\\n\\n\\n\\nPocket Description\\n\\n\\n\\n\\n\\n\\n\\nCargo Pocket\\n\\n\\n\\n\\n\\n\\n\\nCoin Pocket\\n\\n\\n\\n\\n\\n\\n\\nFlap Pocket\\n\\n\\n\\n\\n\\n\\n\\nKangaroo Pocket\\n\\n\\n\\n\\n\\n\\n\\nPatch Pocket\\n\\n\\n\\n\\n\\n\\n\\nRound Pocket\\n\\n\\n\\n\\n\\n\\n\\nSlit Pocket\\n\\n\\n\\n\\n\\n\\n\\nStraight Pocket\\n\\n\\n\\n\\n\\n\\nOccasion\\n\\n\\n\\n\\n\\n\\n\\nAnniversary\\n\\n\\n\\n\\n\\n\\n\\nBachelor Party\\n\\n\\n\\n\\n\\n\\n\\nBachelorette Party\\n\\n\\n\\n\\n\\n\\n\\nBirthday\\n\\n\\n\\n\\n\\n\\n\\nChristmas\"),\n",
       " Document(metadata={'source': 'https://www.amazon.in/s?rh=n%3A1968120031&fs=true&ref=lp_1968120031_sar', 'title': 'Amazon.in', 'language': 'en-in'}, page_content=\"Patch Pocket\\n\\n\\n\\n\\n\\n\\n\\nRound Pocket\\n\\n\\n\\n\\n\\n\\n\\nSlit Pocket\\n\\n\\n\\n\\n\\n\\n\\nStraight Pocket\\n\\n\\n\\n\\n\\n\\nOccasion\\n\\n\\n\\n\\n\\n\\n\\nAnniversary\\n\\n\\n\\n\\n\\n\\n\\nBachelor Party\\n\\n\\n\\n\\n\\n\\n\\nBachelorette Party\\n\\n\\n\\n\\n\\n\\n\\nBirthday\\n\\n\\n\\n\\n\\n\\n\\nChristmas\\n\\n\\n\\n\\n\\n\\n\\nDiwali\\n\\n\\n\\n\\n\\n\\n\\nEaster\\n\\n\\n\\n\\n\\n\\n\\n\\n\\n\\n\\nFather's Day\\n\\n\\n\\n\\n\\n\\n\\nGraduation\\n\\n\\n\\n\\n\\n\\n\\nHalloween\\n\\n\\n\\n\\n\\n\\n\\nHoneymoon\\n\\n\\n\\n\\n\\n\\n\\nNew Year\\n\\n\\n\\n\\n\\n\\n\\nThanksgiving\\n\\n\\n\\n\\n\\n\\n\\nValentine's Day\\n\\n\\n\\n\\n\\n\\n\\nWedding\\n\\n\\n\\n\\n\\nSee more\\n\\n\\n\\n\\n\\nColour\\n\\n\\n\\n\\n\\n\\n\\n\\n\\n\\n\\n\\n\\n\\n\\n\\n\\n\\n\\n\\n\\n\\n\\n\\n\\n\\n\\n\\n\\n\\n\\n\\n\\n\\n\\n\\n\\n\\n\\n\\n\\n\\n\\n\\n\\n\\n\\n\\n\\n\\n\\n\\n\\n\\n\\n\\n\\n\\n\\n\\n\\n\\n\\n\\n\\n\\n\\n\\n\\n\\n\\n\\n\\n\\n\\n\\n\\n\\n\\n\\n\\n\\n\\n\\n\\n\\n\\n\\n\\n\\n\\n\\n\\n\\n\\n\\n\\n\\n\\n\\n\\n\\n\\n\\n\\n\\n\\n\\n\\n\\n\\n\\n\\n\\n\\n\\n\\n\\n\\n\\n\\n\\n\\n\\n\\n\\n\\n\\n\\n\\n\\n\\n\\n\\n\\n\\n\\n\\n\\n\\n\\n\\n\\n\\n\\n\\n\\n\\n\\n\\n\\n\\n\\n\\n\\n\\n\\n\\n\\nClosure Type\\n\\n\\n\\n\\n\\n\\n\\nButton\\n\\n\\n\\n\\n\\n\\n\\nPull On\\n\\n\\n\\n\\n\\n\\n\\nSnap\\n\\n\\n\\n\\n\\n\\n\\nZipper\\n\\n\\n\\n\\n\\n\\n\\nDrawstring\\n\\n\\n\\n\\n\\n\\n\\nHook and Eye\\n\\n\\n\\n\\n\\n\\nNeckline\\n\\n\\n\\n\\n\\n\\n\\nCollared Neck\\n\\n\\n\\n\\n\\n\\n\\nCrew Neck\\n\\n\\n\\n\\n\\n\\n\\nHenley Neck\\n\\n\\n\\n\\n\\n\\n\\nHigh Neck\\n\\n\\n\\n\\n\\n\\n\\nHooded Neck\\n\\n\\n\\n\\n\\n\\n\\nMandarin Neck\\n\\n\\n\\n\\n\\n\\n\\nMock Neck\\n\\n\\n\\n\\n\\n\\n\\nNotch Neck\\n\\n\\n\\n\\n\\n\\n\\nScoop Neck\\n\\n\\n\\n\\n\\n\\n\\nSquare Neck\\n\\n\\n\\n\\n\\n\\n\\nTurtle Neck\\n\\n\\n\\n\\n\\n\\nPattern\\n\\n\\n\\n\\n\\n\\n\\nAnimal print\\n\\n\\n\\n\\n\\n\\n\\nCamouflage\\n\\n\\n\\n\\n\\n\\n\\nCartoon\\n\\n\\n\\n\\n\\n\\n\\nChequered\\n\\n\\n\\n\\n\\n\\n\\nFloral\\n\\n\\n\\n\\n\\n\\n\\nGeometric\"),\n",
       " Document(metadata={'source': 'https://www.amazon.in/s?rh=n%3A1968120031&fs=true&ref=lp_1968120031_sar', 'title': 'Amazon.in', 'language': 'en-in'}, page_content='Notch Neck\\n\\n\\n\\n\\n\\n\\n\\nScoop Neck\\n\\n\\n\\n\\n\\n\\n\\nSquare Neck\\n\\n\\n\\n\\n\\n\\n\\nTurtle Neck\\n\\n\\n\\n\\n\\n\\nPattern\\n\\n\\n\\n\\n\\n\\n\\nAnimal print\\n\\n\\n\\n\\n\\n\\n\\nCamouflage\\n\\n\\n\\n\\n\\n\\n\\nCartoon\\n\\n\\n\\n\\n\\n\\n\\nChequered\\n\\n\\n\\n\\n\\n\\n\\nFloral\\n\\n\\n\\n\\n\\n\\n\\nGeometric\\n\\n\\n\\n\\n\\n\\n\\nHerringbone\\n\\n\\n\\n\\n\\n\\n\\nLetter print\\n\\n\\n\\n\\n\\n\\n\\nMoire\\n\\n\\n\\n\\n\\n\\n\\nPaisley\\n\\n\\n\\n\\n\\n\\n\\nPlaid\\n\\n\\n\\n\\n\\n\\n\\nPolka dots\\n\\n\\n\\n\\n\\n\\n\\nSolid\\n\\n\\n\\n\\n\\n\\n\\nStars\\n\\n\\n\\n\\n\\n\\n\\nStriped\\n\\n\\n\\n\\n\\n\\nMaterial\\n\\n\\n\\n\\n\\n\\n\\nCotton\\n\\n\\n\\n\\n\\n\\n\\nDenim\\n\\n\\n\\n\\n\\n\\n\\nLinen\\n\\n\\n\\n\\n\\n\\n\\nRayon\\n\\n\\n\\n\\n\\n\\n\\nRubber\\n\\n\\n\\n\\n\\n\\n\\nSatin\\n\\n\\n\\n\\n\\n\\n\\nSilk\\n\\n\\n\\n\\n\\n\\n\\n\\n\\n\\n\\nSynthetic\\n\\n\\n\\n\\n\\nSee more\\n\\n\\n\\n\\n\\nLifestyle\\n\\n\\n\\n\\n\\n\\n\\nBusiness Casual\\n\\n\\n\\n\\n\\n\\n\\nCasual\\n\\n\\n\\n\\n\\n\\n\\nComfort\\n\\n\\n\\n\\n\\n\\n\\nEvening\\n\\n\\n\\n\\n\\n\\n\\nFormal\\n\\n\\n\\n\\n\\n\\nFit Type\\n\\n\\n\\n\\n\\n\\n\\nAthletic Fit\\n\\n\\n\\n\\n\\n\\n\\nClassic Fit\\n\\n\\n\\n\\n\\n\\n\\nFitted\\n\\n\\n\\n\\n\\n\\n\\nLoose Fit\\n\\n\\n\\n\\n\\n\\n\\nModern Fit\\n\\n\\n\\n\\n\\n\\n\\nOversized Fit\\n\\n\\n\\n\\n\\n\\n\\nRegular Fit\\n\\n\\n\\n\\n\\n\\n\\nRelaxed Fit\\n\\n\\n\\n\\n\\n\\n\\nSkinny Fit\\n\\n\\n\\n\\n\\n\\n\\nSlim Fit\\n\\n\\n\\n\\n\\n\\nSleeve Length\\n\\n\\n\\n\\n\\n\\n\\nSleeveless\\n\\n\\n\\n\\n\\n\\n\\nShort Sleeve\\n\\n\\n\\n\\n\\n\\n\\nHalf Sleeve\\n\\n\\n\\n\\n\\n\\n\\n3/4 Sleeve\\n\\n\\n\\n\\n\\n\\n\\nLong Sleeve\\n\\n\\n\\n\\n\\n\\nCare Instructions\\n\\n\\n\\n\\n\\n\\n\\nDry Clean Only\\n\\n\\n\\n\\n\\n\\n\\nHand Wash Only\\n\\n\\n\\n\\n\\n\\n\\nMachine Wash\\n\\n\\n\\n\\n\\n\\nPay On Delivery'),\n",
       " Document(metadata={'source': 'https://www.amazon.in/s?rh=n%3A1968120031&fs=true&ref=lp_1968120031_sar', 'title': 'Amazon.in', 'language': 'en-in'}, page_content='Short Sleeve\\n\\n\\n\\n\\n\\n\\n\\nHalf Sleeve\\n\\n\\n\\n\\n\\n\\n\\n3/4 Sleeve\\n\\n\\n\\n\\n\\n\\n\\nLong Sleeve\\n\\n\\n\\n\\n\\n\\nCare Instructions\\n\\n\\n\\n\\n\\n\\n\\nDry Clean Only\\n\\n\\n\\n\\n\\n\\n\\nHand Wash Only\\n\\n\\n\\n\\n\\n\\n\\nMachine Wash\\n\\n\\n\\n\\n\\n\\nPay On Delivery\\n\\n\\n\\n\\n\\n\\n\\nEligible for Pay On Delivery\\n\\n\\n\\n\\n\\n\\nNew Arrivals\\n\\n\\n\\n\\n\\n\\nLast 30 days\\n\\n\\n\\n\\n\\n\\nLast 90 days\\n\\n\\n\\n\\n\\n\\nDiscount\\n\\n\\n\\n\\n\\n\\n10% Off or more\\n\\n\\n\\n\\n\\n\\n25% Off or more\\n\\n\\n\\n\\n\\n\\n35% Off or more\\n\\n\\n\\n\\n\\n\\n50% Off or more\\n\\n\\n\\n\\n\\n\\n60% Off or more\\n\\n\\n\\n\\n\\n\\n70% Off or more\\n\\n\\n\\n\\n\\n\\nSeller\\n\\n\\n\\n\\n\\n\\n\\nCocoblu Retail\\n\\n\\n\\n\\n\\n\\n\\nLeotude Lifestyle Private Limited\\n\\n\\n\\n\\n\\n\\n\\n\\n\\n\\n\\nJockeyIndia\\n\\n\\n\\n\\n\\n\\n\\nFrost Clothings\\n\\n\\n\\n\\n\\n\\n\\nBodyGlove Apparel Online\\n\\n\\n\\n\\n\\n\\n\\nAditya birla fashion and lifestyle\\n\\n\\n\\n\\n\\n\\n\\nFRISKE KNITS PRIVATE LIMITED\\n\\n\\n\\n\\n\\nSee more\\n\\n\\n\\n\\n\\nAvailability\\n\\n\\n\\n\\n\\n\\n\\nInclude Out of Stock'),\n",
       " Document(metadata={'source': 'https://www.amazon.in/s?rh=n%3A1968120031&fs=true&ref=lp_1968120031_sar', 'title': 'Amazon.in', 'language': 'en-in'}, page_content='FRISKE KNITS PRIVATE LIMITED\\n\\n\\n\\n\\n\\nSee more\\n\\n\\n\\n\\n\\nAvailability\\n\\n\\n\\n\\n\\n\\n\\nInclude Out of Stock\\n\\n\\n\\n\\n\\n\\n\\n\\n\\n\\n\\n\\n\\n\\n\\n\\n\\n\\n\\n\\n\\n\\n\\n\\n\\n\\n\\n\\n\\n\\n\\n\\n\\n\\n\\n\\n\\n\\n\\n\\n\\n\\n\\n\\n\\n\\n\\n\\n\\n\\n\\n\\n\\n\\n\\n\\n\\n\\n\\n\\n\\n\\n\\n\\n\\n\\n\\n\\n\\n\\n\\n\\n                    Your recently viewed items and featured recommendations      ›    View or edit your browsing history     After viewing product detail pages, look here to find an easy way to navigate back to pages you are interested in.         Your recently viewed items and featured recommendations      ›    View or edit your browsing history     After viewing product detail pages, look here to find an easy way to navigate back to pages you are interested in.        \\n\\n\\n\\n\\n    Back to top\\n  \\n\\n\\n\\n\\n\\nGet to Know Us\\n\\n\\nAbout Us\\n\\n\\nCareers\\n\\n\\nPress Releases\\n\\n\\nAmazon Science\\n\\n\\n\\n\\n\\nConnect with Us\\n\\n\\nFacebook\\n\\n\\nTwitter\\n\\n\\nInstagram\\n\\n\\n\\n\\n\\nMake Money with Us\\n\\n\\nSell on Amazon\\n\\n\\nSell under Amazon Accelerator\\n\\n\\nProtect and Build Your Brand\\n\\n\\nAmazon Global Selling\\n\\n\\nBecome an Affiliate\\n\\n\\nFulfilment by Amazon\\n\\n\\nAdvertise Your Products'),\n",
       " Document(metadata={'source': 'https://www.amazon.in/s?rh=n%3A1968120031&fs=true&ref=lp_1968120031_sar', 'title': 'Amazon.in', 'language': 'en-in'}, page_content='Make Money with Us\\n\\n\\nSell on Amazon\\n\\n\\nSell under Amazon Accelerator\\n\\n\\nProtect and Build Your Brand\\n\\n\\nAmazon Global Selling\\n\\n\\nBecome an Affiliate\\n\\n\\nFulfilment by Amazon\\n\\n\\nAdvertise Your Products\\n\\n\\nAmazon Pay on Merchants\\n\\n\\n\\n\\n\\nLet Us Help You\\n\\n\\nCOVID-19 and Amazon\\n\\n\\nYour Account\\n\\n\\nReturns Centre\\n\\n\\nRecalls and Product Safety Alerts\\n\\n\\n100% Purchase Protection\\n\\n\\nAmazon App Download\\n\\n\\nHelp\\n\\n\\n\\n\\n\\n\\n\\n\\n\\n\\n\\n\\n\\n\\n\\n\\n\\nEnglish\\n\\n\\n\\nIndia\\n\\n\\n\\n\\n\\n\\nAbeBooksBooks, art& collectibles\\nAmazon Web ServicesScalable CloudComputing Services\\nAudibleDownloadAudio Books\\nIMDbMovies, TV& Celebrities\\n\\xa0\\n\\nShopbopDesignerFashion Brands\\n\\t\\nAmazon BusinessEverything ForYour Business\\nPrime Now 2-Hour Deliveryon Everyday Items\\nAmazon Prime Music100 million songs, ad-freeOver 15 million podcast episodes \\n\\n\\n\\nConditions of Use & Sale Privacy Notice Interest-Based Ads © 1996-2024, Amazon.com, Inc. or its affiliates'),\n",
       " Document(metadata={'source': '/Users/shreehari/Documents/GenAi projects/ecommercerag/csvragdatas/Attachment 2.pdf', 'page': 0}, page_content='c A R E E R\\nc L O S E T\\nDRESS \\nFOR\\nSUCCESS'),\n",
       " Document(metadata={'source': '/Users/shreehari/Documents/GenAi projects/ecommercerag/csvragdatas/Attachment 2.pdf', 'page': 1}, page_content='B U S I N E S S  C A S U A L     \\nF O R M A L  \\n \\nB U S I N E S S  C A S U A L\\nF O R M A L\\n \\nD R E S S I N G  B E Y O N D  \\nT H E  B I N A R Y\\n \\nQ U I C K  T I P S\\n \\n \\nTABLE OF CONTENTS\\nD R E S S  F O R  S U C C E S S\\nJustin A. Rivera Issue 01'),\n",
       " Document(metadata={'source': '/Users/shreehari/Documents/GenAi projects/ecommercerag/csvragdatas/Attachment 2.pdf', 'page': 2}, page_content='DRESS\\nFOR\\nSUCCESSCARREER SUCCESS CENTER PRESENTS'),\n",
       " Document(metadata={'source': '/Users/shreehari/Documents/GenAi projects/ecommercerag/csvragdatas/Attachment 2.pdf', 'page': 3}, page_content='WHAT IS BUSINESS\\nCASUAL \\xa0\\nWHAT TO WEAR:\\n \\nCHINOS\\nChinos\\xa0are great because they boost the appeal of casual looks,\\xa0but\\xa0they\\nare\\xa0still\\xa0quite laid-back. \\nYou will want chinos in all the classic colors for maximum versatility. Black,\\nnavy, khaki and beige are recommended. \\nMake sure\\xa0your chinos\\xa0are a slimmer fit and aren’t too long or too short.\\nOnce you find a style or brand that works well for you, invest in several\\npairs and colors so you can ensure all your looks are consistently\\xa0polished. \\nJustin A. Rivera Issue 01'),\n",
       " Document(metadata={'source': '/Users/shreehari/Documents/GenAi projects/ecommercerag/csvragdatas/Attachment 2.pdf', 'page': 4}, page_content='WHAT IS BUSINESS\\nCASUAL\\xa0\\nWHAT TO WEAR:\\n \\nSHIRTS\\n These traditional shirts work well as long as they are well-tailored, made\\nfrom high-quality materials, and of course, ironed or steamed.\\nA few good button-down shirts are a must for any business casual wardrobe. \\nThey are flattering, versatile and work well with tailored pants,\\xa0chinos\\xa0and\\nunder jackets,\\xa0cardigans\\xa0and\\xa0blazers\\xa0alike.\\nJustin A. Rivera Issue 01'),\n",
       " Document(metadata={'source': '/Users/shreehari/Documents/GenAi projects/ecommercerag/csvragdatas/Attachment 2.pdf', 'page': 5}, page_content='WHAT IS BUSINESS\\nCASUAL\\xa0\\nWHAT TO WEAR:\\n \\nSHOES\\nBrogues,\\xa0monk-straps,\\xa0loafers\\xa0and\\xa0Oxfords\\xa0are good\\xa0business casual\\nshoe\\xa0choices but think about changing the types of materials you prefer. \\nSuedes and matte leathers are adaptable and will lend more of a relaxed vibe\\nto a look. \\nBlack is classic and works well with crisp white shirts, but use business casual\\nas a way of introducing more color to your looks. \\nDusty brown is recommended as it works great alongside other neutral\\ntones like beiges and tans and also complements navies, emerald greens and\\nrich burgundies.\\nJustin A. Rivera Issue 01'),\n",
       " Document(metadata={'source': '/Users/shreehari/Documents/GenAi projects/ecommercerag/csvragdatas/Attachment 2.pdf', 'page': 6}, page_content='WHAT IS BUSINESS\\nCASUAL\\xa0\\nWHAT TO WEAR:\\n \\nBLAZERS\\nBlazers for business casual shouldn’t be too formal, yet should still have a\\ndressed-up element to them. \\nOpt for\\xa0blazers\\xa0without too much structure as this will read professional but\\nnot overly conservative. \\nThe fit is important, and you do not want something that overwhelms your\\nlook. Blazers in staple colors will ground your looks and lend a classic edge\\nto your clothing choices.\\nJustin A. Rivera Issue 01'),\n",
       " Document(metadata={'source': '/Users/shreehari/Documents/GenAi projects/ecommercerag/csvragdatas/Attachment 2.pdf', 'page': 7}, page_content='WHAT IS BUSINESS\\nCASUAL\\xa0\\nWHAT TO WEAR:\\n \\nJEANS\\nA straight-leg style in black or a dark blue hue makes a particularly suitable\\nchoice. \\nMake sure they have no rips and aren’t too faded to ensure you appear\\npolished instead of sloppy.  \\nWearing smart items, such as an\\xa0Oxford shirt\\xa0and\\xa0derby shoes, look great,\\nbut it’ll also elevate your look to an appropriate level.\\nJustin A. Rivera Issue 01'),\n",
       " Document(metadata={'source': '/Users/shreehari/Documents/GenAi projects/ecommercerag/csvragdatas/Attachment 2.pdf', 'page': 8}, page_content='WHAT IS BUSINESS\\nCASUAL\\xa0\\nWHAT TO WEAR:\\n \\nCARDIGANS AND SWEATERS\\nOpt for round neck cable knit sweaters for a clean, classic aesthetic\\xa0\\nFor\\xa0cardigans, shawl neck versions, are the best choice ensure\\xa0these\\ncardigans\\xa0fit well and are of good quality because they can be worn\\ncountlessly. \\nIf you want something more relaxed, opt for grandpa-style cardigans which\\nare minimal but still work well for your office looks.\\nJustin A. Rivera Issue 01'),\n",
       " Document(metadata={'source': '/Users/shreehari/Documents/GenAi projects/ecommercerag/csvragdatas/Attachment 2.pdf', 'page': 9}, page_content='WHAT IS BUSINESS\\nCASUAL\\xa0\\nWHAT TO WEAR:\\n \\nJACKETS\\nA stylish\\xa0bomber jacket\\xa0can make a great option. Just make sure that you\\npick one in a dark color or neutral hue to ensure it appears polished. \\nLikewise, dark denim jackets can also be appropriate for the office, so long\\nas you pair them with a smart outfit. \\nFor a stylish look, try pairing a business casual jacket with a pair\\nof\\xa0chinos,\\xa0derby shoes\\xa0and an\\xa0Oxford shirt. If you still feel a little\\nunderdressed, consider adding a tie to your look.\\nJustin A. Rivera Issue 01'),\n",
       " Document(metadata={'source': '/Users/shreehari/Documents/GenAi projects/ecommercerag/csvragdatas/Attachment 2.pdf', 'page': 10}, page_content=\"WHAT IS BUSINESS\\nCASUAL\\xa0\\nWHAT TO WEAR:\\n \\nACCESSORIES\\nA\\xa0pocket square\\xa0that corresponds well with your tie will accent your\\naccompanying clothing.\\nDo not go for overly vivid or bright colors and patterns; observe the formality\\nof the job. \\nDon't go for a bulky suitcase; rather opt for a structured envelope bag or slender\\nbriefcase in a good quality leather if you’re carrying important documents. \\nCufflinks and a\\xa0quality watch\\xa0are also a nice addition that will boost looks in a\\nsubtle but stylish way.\\nJustin A. Rivera Issue 01\"),\n",
       " Document(metadata={'source': '/Users/shreehari/Documents/GenAi projects/ecommercerag/csvragdatas/Attachment 2.pdf', 'page': 11}, page_content='WHAT IS BUSINESS\\nFORMAL\\xa0\\nEmployers like to imagine you being part of their office, so professionalism\\nshould be maintained in your interview attire. \\nA two-piece suit is ideal; it registers clean and simple. Tailoring is also\\nparamount; your suit should fit appropriately.\\xa0A two-piece suit in a dark\\ncolor is highly recommended for a job interview.\\nStick to the classics; navy or charcoal grey work perfectly when tailored and\\nreads friendly and approachable to your interviewer.\\xa0\\nWHAT TO WEAR:\\n \\nSUITS\\nJustin A. Rivera Issue 01'),\n",
       " Document(metadata={'source': '/Users/shreehari/Documents/GenAi projects/ecommercerag/csvragdatas/Attachment 2.pdf', 'page': 12}, page_content='WHAT IS BUSINESS\\nFORMAL\\xa0\\nWHAT TO WEAR:\\n \\nDRESS SHIRT\\nLighter toned shirts always work better in a professional context, so stick to\\nthe classics; a crisp bright white or a powder blue shirt will do the trick. \\nAlso be mindful of the type of collar you go for, opt for straight collared\\nshirts as opposed to button-down collars for a more formal touch.\\nOversized shirts are not great, opt for fitted styles \\n \\nJustin A. Rivera Issue 01'),\n",
       " Document(metadata={'source': '/Users/shreehari/Documents/GenAi projects/ecommercerag/csvragdatas/Attachment 2.pdf', 'page': 13}, page_content='WHAT IS BUSINESS\\nFORMAL\\xa0\\nWHAT TO WEAR:\\n \\nSOCKS\\nSocks can be a great way to demonstrate your personal style in an office\\nsetting, but for your interview, play it safe.\\nGo for darker shades to complement your suit and if you are going for a\\nprint opt for traditional and subtle tones. \\nAlso, ensure that your socks are not too short.\\nJustin A. Rivera Issue 01'),\n",
       " Document(metadata={'source': '/Users/shreehari/Documents/GenAi projects/ecommercerag/csvragdatas/Attachment 2.pdf', 'page': 14}, page_content='WHAT IS BUSINESS\\nFORMAL\\xa0\\nWHAT TO WEAR:\\n \\nTIE\\nDo not wear a slim or extra wide tie, strike a balance and go for a standard\\nwidth tie in a conservative color or pattern. \\nMuch like your shirt and suit, keep your\\xa0tie style and colors\\xa0clean and\\nclassic. \\nBurgundies, emerald greens, navies and other traditional shades are perfect\\nand will complement your accompanying clothing.\\n \\nJustin A. Rivera Issue 01'),\n",
       " Document(metadata={'source': '/Users/shreehari/Documents/GenAi projects/ecommercerag/csvragdatas/Attachment 2.pdf', 'page': 15}, page_content='DRESS\\nFOR\\nSUCCESSCARREER SUCCESS CENTER PRESENTS'),\n",
       " Document(metadata={'source': '/Users/shreehari/Documents/GenAi projects/ecommercerag/csvragdatas/Attachment 2.pdf', 'page': 16}, page_content=\"WHAT IS BUSINESS\\nCASUAL\\xa0\\nWHAT TO WEAR:\\n \\nDENIM\\nAlways a Do: If denim is permitted go for a well tailored jean (wide leg or boot cut), in a dark\\nwash, and dress it up with a pair of heels or a silk blouse.\\xa0\\nAlways a Don't:\\xa0Anything that’s torn (even on purpose), stretched out and baggy as a result\\nof overuse, skin tight, or so low slung that you fear sitting down at a meeting.\\nJustin A. Rivera Issue 01\"),\n",
       " Document(metadata={'source': '/Users/shreehari/Documents/GenAi projects/ecommercerag/csvragdatas/Attachment 2.pdf', 'page': 17}, page_content='WHAT IS BUSINESS\\nCASUAL\\nWHAT TO WEAR:\\n \\nPANTS\\nCropped, wide-leg, straight or slim pants are an excellent choice for women\\nwho must adhere to a business casual dress code. \\nChoose a pair of pants in a neutral shad  like black, tan or a dark hue, such as\\nburgundy or navy. A simple print can also be appropriate. \\nWhen it comes to fabrication, selecting a pair with a little stretch will ensure\\nmaximum comfort when sitting down.\\nJustin A. Rivera Issue 01'),\n",
       " Document(metadata={'source': '/Users/shreehari/Documents/GenAi projects/ecommercerag/csvragdatas/Attachment 2.pdf', 'page': 18}, page_content='WHAT IS BUSINESS\\nCASUAL\\xa0\\nWHAT TO WEAR:\\n \\nSKIRTS\\nSkirts are not only stylish, but versatile. Pencil skirts are always appropriate,\\nbut don’t rule out A-line and pleated styles. \\nInstead, just ensure the length and slit, if it has one, is suitable for your work\\nactivities such as walking, climbing stairs, or sitting.\\nKeep length at knee level if not an inch above. Pairing with tights or\\nstockings can help with the amount of bare skin showing at the office.Pencil Jean Crosby\\nJustin A. Rivera Issue 01'),\n",
       " Document(metadata={'source': '/Users/shreehari/Documents/GenAi projects/ecommercerag/csvragdatas/Attachment 2.pdf', 'page': 19}, page_content='WHAT IS BUSINESS\\nCASUAL\\xa0\\nWHAT TO WEAR:\\n \\nDRESSES\\nAlthough pants are a great option for business casual attire, dresses can add a some diversity\\nto your work wardrobe. \\xa0\\nDresses can also provide a polished femininity that’s perfect for business women. Just\\nensure that you pick appropriate styles, such as pencil, wrap or A-line designs, and that the\\nlength and fit are ideal for the office.KnittedMidi\\nPencilMidi\\nJustin A. Rivera Issue 01'),\n",
       " Document(metadata={'source': '/Users/shreehari/Documents/GenAi projects/ecommercerag/csvragdatas/Attachment 2.pdf', 'page': 20}, page_content='WHAT IS BUSINESS\\nCASUAL\\xa0\\nWHAT TO WEAR:\\n \\nSWEATERS\\nSweaters are an excellent addition to any business casual wardrobe. They are ideal for\\nwinter, as well as providing an extra touch of warmth when required. \\nInvest in a variety of sweaters in a range of basic colors, then wear them as tops with pants\\nand skirts or layer them over shirts and dressesCardiganCrew\\nNeckMock\\nNeck\\nJustin A. Rivera Issue 01'),\n",
       " Document(metadata={'source': '/Users/shreehari/Documents/GenAi projects/ecommercerag/csvragdatas/Attachment 2.pdf', 'page': 21}, page_content='WHAT IS BUSINESS\\nCASUAL\\xa0\\nWHAT TO WEAR:\\n \\nJACKETS/BLAZER\\nWhen trying to keep your outerwear appearing professional, opt for smart jackets and\\nblazers in classic colors, such as black or navy. \\nAlso, make sure that you select well-fitting designs that are comfortable to wear.Pea-CoatBlazer Wrap-Coat\\nJustin A. Rivera Issue 01'),\n",
       " Document(metadata={'source': '/Users/shreehari/Documents/GenAi projects/ecommercerag/csvragdatas/Attachment 2.pdf', 'page': 22}, page_content='WHAT IS BUSINESS\\nCASUAL\\xa0\\nWHAT TO WEAR:\\n \\nTOPS\\nShirts aren’t the only tops you can wear to work. Other styles, such as keyhole blouses, long\\nsleeve styles, and even smart tanks, can all be ideal for the office so long as you ensure the\\nneckline is modest. \\nCleavage is not appropriate for the work place.\\nAs for color, feel free to experiment with pops of pastels and jewel tones as well as subtle\\nprints. Just add classic pants or a skirt to balance any loud colours or patterns.Sleeveless\\nTopBlouseCollard\\nShirt\\nJustin A. Rivera Issue 01'),\n",
       " Document(metadata={'source': '/Users/shreehari/Documents/GenAi projects/ecommercerag/csvragdatas/Attachment 2.pdf', 'page': 23}, page_content='WHAT IS BUSINESS\\nCASUAL\\xa0\\nWHAT TO WEAR:\\n \\nSHOES\\nWhen it comes to business casual shoes women have many fantastic options, including\\xa0flats\\nlike loafers, brogues and ballet shoes, heels like comfortable kitten and block styles and\\nboots, which are ideal for winter. \\nWhichever you pick, just ensure they’re comfortable, un-scuffed and that any heel is an\\nappropriate\\xa0height. Also, keep embellishments, such as buckles and studs to a minimum.Mid - Heel Ankle\\nBootLoafers\\nJustin A. Rivera Issue 01'),\n",
       " Document(metadata={'source': '/Users/shreehari/Documents/GenAi projects/ecommercerag/csvragdatas/Attachment 2.pdf', 'page': 24}, page_content='WHAT IS BUSINESS\\nCASUAL\\nWHAT TO WEAR:\\n \\nACCESSORIES\\nMatch your metals\\nMatch your leathers\\nAccessorize one wrist only\\nKnow how much is too much (One Statement piece is enough)\\nKeep your aesthetic consistent\\nTry out new things \\n \\n \\nJustin A. Rivera Issue 01'),\n",
       " Document(metadata={'source': '/Users/shreehari/Documents/GenAi projects/ecommercerag/csvragdatas/Attachment 2.pdf', 'page': 25}, page_content='DRESS\\nFOR\\nSUCCESS\\nCARREER SUCCESS CENTER PRESENTS'),\n",
       " Document(metadata={'source': '/Users/shreehari/Documents/GenAi projects/ecommercerag/csvragdatas/Attachment 2.pdf', 'page': 26}, page_content=\"BEYOND \\nTHE BINARY\\nWHAT TO WEAR:\\n \\nBEYOND THE BINARY\\nConfidence is key\\xa0from the get-go, and it is hard to be confident\\xa0if\\xa0you\\xa0are\\xa0uncomfortable in your\\nclothing. Wear clothing that\\xa0matches your gender identity, but also\\xa0allows you to feel safe.\\xa0\\xa0\\nConsider a daily uniform. To avoid decision fatigue and make your mornings smoother, create a look\\nyou can wear every day.Wearing a uniform isn't new, as demonstrated by the likes of Mark Zuckerberg\\nand Barack Obama, who live this way.\\xa0This can help you\\xa0save\\xa0brainpower, time, and\\xa0help you\\xa0always feel\\ngood in what you are wearing.\\xa0If you do not have access to clothing you feel comfortable in, seek out\\nlocal resources and check out your near-by thrift shop.\\nObserve the level of professionalism.\\xa0Unless there is an industry standard, opt for business casual or\\nperhaps more professional attire for your first day on the job. Take note of how other employees are\"),\n",
       " Document(metadata={'source': '/Users/shreehari/Documents/GenAi projects/ecommercerag/csvragdatas/Attachment 2.pdf', 'page': 26}, page_content='perhaps more professional attire for your first day on the job. Take note of how other employees are\\ndressed and base your degree of professional attire accordingly. To get a jump start on the standard dress\\ncode, you can also give a call to human resources ahead of your first day of work. \\n \\nJustin A. Rivera & CCSU LGBT Center Issue 01'),\n",
       " Document(metadata={'source': '/Users/shreehari/Documents/GenAi projects/ecommercerag/csvragdatas/Attachment 2.pdf', 'page': 27}, page_content='BEYOND \\nTHE BINARY\\nWHAT TO WEAR:\\n \\nBEYOND THE BINARY\\nFind silhouettes and fits that feel affirming to your body. when shopping, try on different\\nsizes and observe how they all fall and frame your body. Take note of the shapes that look\\ngood to you and lean towards those. \\nPlay with different accessories that add a refined tone to your outfit. Things like watches, a\\nnice\\xa0belt, and clean, polished shoes will elevate your look. \\nFind staples in your wardrobe that you can build your daily uniform.\\nFind\\xa0yourself in a companies policies (dress code); keeping your identity within the business\\nculture.\\nContact HR to clarify expectation & find your footing within the culture.  \\nResearch\\xa0state laws, based on discrimination based on gender expression in public and\\nprivate employment, Connecticut for instance bans discrimination based on gender\\nexpression. Laws change constantly so make sure to get up to date information.  \\nJustin A. Rivera & CCSU LGBT Center Issue 01'),\n",
       " Document(metadata={'source': '/Users/shreehari/Documents/GenAi projects/ecommercerag/csvragdatas/Attachment 2.pdf', 'page': 28}, page_content='QUICK TIPS\\n GUIDE\\n-SHAPEWEAR-\\nJustin A. Rivera Issue 01'),\n",
       " Document(metadata={'source': '/Users/shreehari/Documents/GenAi projects/ecommercerag/csvragdatas/Attachment 2.pdf', 'page': 29}, page_content='QUICK TIPS\\nTAILORING\\nYour pants should feel comfortable around the waist. Always try pants on\\nwithout a belt. You should be able to keep them up on your own and they\\nshould not fall down when wearing them without a belt, but they shouldn’t be\\npinching your waist either.\\nThe front of your pants leg should have a slight break, where it meets your\\nshoes.\\nThe back of your pant leg should just reach the top of your shoe’s sole.\\nThe fabric at the end of the legs shouldn’t puddle.\\nMost trousers will need adjustments after you buy them to get the necessary\\nfit.Shoulder seams should rest on the edge of your shoulders; not on top of\\nthem and not over them.\\nThe cuffs of your shirt should end at the dimple of your wrist.\\nThere’s no stretching of fabric around the chest or the buttons.\\nWhen you tuck the shirt in, there is no excessive billowing around the waist.\\nYou can fit two fingers between the collar and your neck; no more and no\\nless.'),\n",
       " Document(metadata={'source': '/Users/shreehari/Documents/GenAi projects/ecommercerag/csvragdatas/Attachment 2.pdf', 'page': 29}, page_content='When you tuck the shirt in, there is no excessive billowing around the waist.\\nYou can fit two fingers between the collar and your neck; no more and no\\nless.\\nThe collar should just graze your neck without constricting it. If turning your\\nhead causes the collar to turn with it, the collar is too tight. You should be\\nable to comfortably fit two fingers inside of your buttoned collar without it\\ntightening against your skin.Check the shoulders and chest. The jacket needs to fit in these places, as\\nthey’re the hardest to alter.\\nYour lapel jacket collar should lie flat against the front panels and the\\nbuttons should hang close to your stomach.\\nThe shoulder seams should rest at the corner of your shoulder, and the\\nsleeves shouldn’t have indents below the seam.\\nCuffs of your shirt should protrude about a quarter to half an inch from the\\njacket’s sleeves, when you’re standing with arms hanging by your side.\\nWhen your top button is closed, the jacket should show no X-\\nshaped stretching.'),\n",
       " Document(metadata={'source': '/Users/shreehari/Documents/GenAi projects/ecommercerag/csvragdatas/Attachment 2.pdf', 'page': 29}, page_content='jacket’s sleeves, when you’re standing with arms hanging by your side.\\nWhen your top button is closed, the jacket should show no X-\\nshaped stretching.\\nThe back of the jacket should just about cover your butt.-JACKETS-\\n-SHIRTS-\\n-TROUSERS-\\nJustin A. Rivera Issue 01'),\n",
       " Document(metadata={'source': '/Users/shreehari/Documents/GenAi projects/ecommercerag/csvragdatas/Attachment 2.pdf', 'page': 30}, page_content='QUICK TIPS\\nTAILORING\\nIgnore the size! Look for something that fits your widest body part, and then tailor\\neverything else down.\\nAll women, especially those with a large bust line, should avoid sizing down into too-\\nsmall shirts to get a snug fit at the waistline. You almost always want a garment to\\ncontour your waistline, but achieve it through tailoring.\\nFor the most flattering skirt or cropped pant length, whether a mini, knee, midi, or\\nankle length, always hem to the point on your leg that begins a taper.\\nPants should fit nicely through the hips, not too baggy and not skintight. They should\\nbe hemmed specific to the shoe height you will be wearing. Hem pants so there is a\\nslight break in the front and no more than 1/2 inch from the floor in the back. This will\\ncreate the illusion of leaner, longer legs.-SUGGESTIONS-\\nBefore After\\nJustin A. Rivera Issue 01'),\n",
       " Document(metadata={'source': '/Users/shreehari/Documents/GenAi projects/ecommercerag/csvragdatas/Attachment 2.pdf', 'page': 31}, page_content='GUIDE TO MATCHING\\nPATTERNS\\nJustin A. Rivera Issue 01'),\n",
       " Document(metadata={'source': '/Users/shreehari/Documents/GenAi projects/ecommercerag/csvragdatas/Attachment 2.pdf', 'page': 32}, page_content='QUICK TIPS\\n GUIDE\\n-FOUR IN A HAND-\\n-BOWTIE-\\nJustin A. Rivera Issue 01'),\n",
       " Document(metadata={'source': '/Users/shreehari/Documents/GenAi projects/ecommercerag/csvragdatas/Attachment 2.pdf', 'page': 33}, page_content=\"QUICK TIPS\\n GUIDE\\nJustin A. Rivera Issue 01TRIANGLE BODY SHAPE\\nChoose: Jackets with shoulder padding and a narrow athletic cut will emphasize your shoulders and make the top half of your body\\nappear more weighted, giving you more balanced proportions. Fit at the shoulders is the #1 priority when it comes to sizing a jacket,\\nand that's especially true for you. Tailors are your friend.\\nA v o i d: Avoid double-breasted jackets – they can make you look bulky.\\nINVERTED TRIANGLE BODY SHAPE\\nChoose: Close-fitting clothes reduce visual clutter and show clean, sharp look. Wearing slim-fit shirts is great but remember to size\\nup. You want to hint subtly at your fitness, not scream it by wearing figure-hugging clothes.\\nA v o i d: Jackets and blazers with shoulder pads – your natural body shape already has enough width in the shoulders. Avoid skinny\\njeans and extra slim fitted trousers because these will make your top half look disproportionately wide.\\nRECTANGLE BODY SHAPE\"),\n",
       " Document(metadata={'source': '/Users/shreehari/Documents/GenAi projects/ecommercerag/csvragdatas/Attachment 2.pdf', 'page': 33}, page_content='jeans and extra slim fitted trousers because these will make your top half look disproportionately wide.\\nRECTANGLE BODY SHAPE\\nChoose: Find a suit jacket with as many pockets as possible, as this helps to draw the attention away from the straightness of your\\nfigure and helps to create more horizontal lines on your body.\\nA v o i d: Instead of tight or slim fit trousers (these will emphasize your thin legs) go for a more relaxed fit (straight cut) instead.\\nOVAL OR APPLE BODY SHAPE\\nChoose: Trousers and shirts or sweaters which are the same color will create a slimming effect. Avoid contrasting colors, which will\\ndraw attention to your larger stomach area. Opt for navy or charcoal; darker colors are more slimming.\\nA v o i d: Avoid pants which bunch at the bottom of your leg. This will draw attention to this area and make your legs appear shorter\\nthan they actually are.TRAPEZOID BODY SHAPE'),\n",
       " Document(metadata={'source': '/Users/shreehari/Documents/GenAi projects/ecommercerag/csvragdatas/Attachment 2.pdf', 'page': 33}, page_content='A v o i d: Avoid pants which bunch at the bottom of your leg. This will draw attention to this area and make your legs appear shorter\\nthan they actually are.TRAPEZOID BODY SHAPE\\nChoose: Vertical stripes will make you appear a little taller. Checks and plaids add horizontal bulk, so pick which one you need based\\non your height.\\nA v o i d: The biggest no-nos are anything loose and saggy,'),\n",
       " Document(metadata={'source': '/Users/shreehari/Documents/GenAi projects/ecommercerag/csvragdatas/Attachment 2.pdf', 'page': 34}, page_content='Justin A. Rivera Issue 01QUICK TIPS\\n GUIDE')]"
      ]
     },
     "execution_count": 9,
     "metadata": {},
     "output_type": "execute_result"
    }
   ],
   "source": [
    "text_splitter=RecursiveCharacterTextSplitter(chunk_size=1000,chunk_overlap=200)\n",
    "documents=text_splitter.split_documents(docs_all)\n",
    "documents"
   ]
  },
  {
   "attachments": {},
   "cell_type": "markdown",
   "metadata": {},
   "source": [
    "# Configuring the Google-gemini pro model using API"
   ]
  },
  {
   "cell_type": "code",
   "execution_count": 10,
   "metadata": {},
   "outputs": [],
   "source": [
    "import os\n",
    "from dotenv import load_dotenv\n",
    "load_dotenv()\n",
    "os.getenv(\"GOOGLE_API_KEY\")\n",
    "genai.configure(api_key=os.getenv(\"GOOGLE_API_KEY\"))"
   ]
  },
  {
   "attachments": {},
   "cell_type": "markdown",
   "metadata": {},
   "source": [
    "## Embedding the documents using GooglegenAI model and store in Faiss Vector Store"
   ]
  },
  {
   "cell_type": "code",
   "execution_count": 11,
   "metadata": {},
   "outputs": [
    {
     "name": "stderr",
     "output_type": "stream",
     "text": [
      "WARNING: All log messages before absl::InitializeLog() is called are written to STDERR\n",
      "I0000 00:00:1721294630.472014 10380004 config.cc:230] gRPC experiments enabled: call_status_override_on_cancellation, event_engine_dns, event_engine_listener, http2_stats_fix, monitoring_experiment, pick_first_new, trace_record_callops, work_serializer_clears_time_cache, work_serializer_dispatch\n",
      "I0000 00:00:1721294630.483684 10380004 check_gcp_environment_no_op.cc:29] ALTS: Platforms other than Linux and Windows are not supported\n"
     ]
    }
   ],
   "source": [
    "embeddings = GoogleGenerativeAIEmbeddings(model=\"models/embedding-001\")\n",
    "vector_store = FAISS.from_documents(documents, embedding=embeddings)\n",
    "vector_store.save_local(\"faiss_index\")\n"
   ]
  },
  {
   "attachments": {},
   "cell_type": "markdown",
   "metadata": {},
   "source": [
    "# Creating Pinecone Serverless Index and connecting"
   ]
  },
  {
   "cell_type": "code",
   "execution_count": 12,
   "metadata": {},
   "outputs": [],
   "source": [
    "from pinecone import Pinecone, ServerlessSpec\n",
    "\n",
    "pc = Pinecone(api_key=\"3b643c4b-5264-49b9-bc2a-b9d4063e52dd\")\n",
    "pc.create_index(\n",
    "    name=\"quickstart\",\n",
    "    dimension=768, # Replace with your model dimensions\n",
    "    metric=\"dotproduct\", # Replace with your model metric\n",
    "    spec=ServerlessSpec(\n",
    "        cloud=\"aws\",\n",
    "        region=\"us-east-1\"\n",
    "    ) \n",
    ")\n",
    "\n"
   ]
  },
  {
   "attachments": {},
   "cell_type": "markdown",
   "metadata": {},
   "source": [
    "### Creating new embedding model for Pinecone Retriever and assigning the Index"
   ]
  },
  {
   "cell_type": "code",
   "execution_count": 13,
   "metadata": {},
   "outputs": [
    {
     "name": "stderr",
     "output_type": "stream",
     "text": [
      "I0000 00:00:1721294872.764981 10380004 check_gcp_environment_no_op.cc:29] ALTS: Platforms other than Linux and Windows are not supported\n"
     ]
    },
    {
     "name": "stderr",
     "output_type": "stream",
     "text": [
      "I0000 00:00:1721294890.663612 10389047 tcp_posix.cc:809] IOMGR endpoint shutdown\n"
     ]
    }
   ],
   "source": [
    "embed = GoogleGenerativeAIEmbeddings(model=\"models/embedding-001\")\n",
    "index = pc.Index(\"quickstart\")"
   ]
  },
  {
   "attachments": {},
   "cell_type": "markdown",
   "metadata": {},
   "source": [
    "## Creating BM25Encoder to use PineconeHybridSearchRetriever"
   ]
  },
  {
   "cell_type": "code",
   "execution_count": 14,
   "metadata": {},
   "outputs": [
    {
     "name": "stderr",
     "output_type": "stream",
     "text": [
      "I0000 00:00:1721294972.197953 10380004 work_stealing_thread_pool.cc:321] WorkStealingThreadPoolImpl::PrepareFork\n"
     ]
    }
   ],
   "source": [
    "from pinecone_text.sparse import BM25Encoder\n",
    "\n",
    "# use default tf-idf values\n",
    "bm25_encoder = BM25Encoder().default()"
   ]
  },
  {
   "attachments": {},
   "cell_type": "markdown",
   "metadata": {},
   "source": [
    "### Saving the encoded documents in json format"
   ]
  },
  {
   "cell_type": "code",
   "execution_count": 15,
   "metadata": {},
   "outputs": [
    {
     "name": "stderr",
     "output_type": "stream",
     "text": [
      "I0000 00:00:1721295026.955165 10380004 work_stealing_thread_pool.cc:321] WorkStealingThreadPoolImpl::PrepareFork\n"
     ]
    },
    {
     "data": {
      "application/vnd.jupyter.widget-view+json": {
       "model_id": "412a63d3bdba437cae78d07e50c12ccb",
       "version_major": 2,
       "version_minor": 0
      },
      "text/plain": [
       "  0%|          | 0/65 [00:00<?, ?it/s]"
      ]
     },
     "metadata": {},
     "output_type": "display_data"
    }
   ],
   "source": [
    "import json\n",
    "\n",
    "# assume your documents are in a list called `documents`\n",
    "\n",
    "# extract the text content from each document\n",
    "text_documents = []\n",
    "for doc in documents:\n",
    "    text_documents.append(doc.page_content)\n",
    "\n",
    "# fit the BM25 encoder to the text documents\n",
    "bm25_encoder.fit(text_documents)\n",
    "\n",
    "# store the values to a json file\n",
    "bm25_encoder.dump(\"bm25_values.json\")\n",
    "\n",
    "# load to your BM25Encoder object\n",
    "bm25_encoder = BM25Encoder().load(\"bm25_values.json\")"
   ]
  },
  {
   "attachments": {},
   "cell_type": "markdown",
   "metadata": {},
   "source": [
    "# Creating Pinecone Hybrid Search Retriever"
   ]
  },
  {
   "cell_type": "code",
   "execution_count": 18,
   "metadata": {},
   "outputs": [],
   "source": [
    "pc_retriever = PineconeHybridSearchRetriever(\n",
    "    embeddings=embed, sparse_encoder=bm25_encoder, index=index\n",
    ")"
   ]
  },
  {
   "attachments": {},
   "cell_type": "markdown",
   "metadata": {},
   "source": [
    "## Adding the extracted documents to the vector store"
   ]
  },
  {
   "cell_type": "code",
   "execution_count": 19,
   "metadata": {},
   "outputs": [
    {
     "data": {
      "application/vnd.jupyter.widget-view+json": {
       "model_id": "6f193a820f3343dfbdb2452cea1da61b",
       "version_major": 2,
       "version_minor": 0
      },
      "text/plain": [
       "  0%|          | 0/3 [00:00<?, ?it/s]"
      ]
     },
     "metadata": {},
     "output_type": "display_data"
    }
   ],
   "source": [
    "pc_retriever.add_texts(text_documents)"
   ]
  },
  {
   "cell_type": "code",
   "execution_count": 20,
   "metadata": {},
   "outputs": [
    {
     "data": {
      "text/plain": [
       "[Document(page_content=\"+12Van HeusenMen's Solid Polo T Shirt  4.0 out of 5 stars 37,311  400+ bought in past month₹899₹899 M.R.P: ₹1,099₹1,099 (18% off) FREE Delivery by Amazon\\nLymioCasual Shirt for Men|| Shirt for Men|| Men Stylish Shirt (Rib-Shirt)  3.9 out of 5 stars 1,075  500+ bought in past monthLimited time deal  ₹479₹479 M.R.P: ₹3,999₹3,999 (88% off)FREE Delivery by Amazon\\nJockeyMen's Inner Regular Fit T Shirt  4.0 out of 5 stars 2,216  400+ bought in past month₹299₹299 M.R.P: ₹379₹379 (21% off)FREE Delivery by Amazon\\nBest sellerin Men's Shirts  +22Dennis LingoMen's Solid Slim Fit Cotton Casual Shirt with Spread Collar & Full Sleeves (Also Available in Plus Size)  3.8 out of 5 stars 37,991  400+ bought in past month₹499₹499 M.R.P: ₹1,849₹1,849 (73% off) FREE Delivery by Amazon\\n+5Allen SollyMen's Slim Fit Shirt  3.7 out of 5 stars 15,183  500+ bought in past month₹869₹869 M.R.P: ₹1,499₹1,499 (42% off) FREE Delivery by Amazon\"),\n",
       " Document(page_content=\"Dixcy ScottOriginals Men’s White Vest Modern Fit innerwear - Claz Vest Rn (Pack of 3)  4.0 out of 5 stars 5,039  1K+ bought in past month₹259₹259 M.R.P: ₹399₹399 (35% off)5% coupon applied at checkoutSave 5%  with coupon (limited sizes/colours) FREE Delivery by Amazon\\nScott InternationalMen's Regular Fit T-Shirt - Cotton Blend, Half Sleeve, Round Neck, Stylish, Solid Plain T-Shirts for Men, mens t shirt - Pack of 3  3.7 out of 5 stars 40,225  1K+ bought in past monthLimited time deal  ₹549₹549 M.R.P: ₹2,397₹2,397 (77% off)₹250 coupon applied at checkoutSave ₹250  with coupon (limited sizes/colours)  FREE Delivery by Amazon\\nBest sellerin Men's T-Shirts  LymioMen T-Shirt || T-Shirt for Men || Plain T Shirt || T-Shirt (Polo-18-21)  3.6 out of 5 stars 878  1K+ bought in past monthLimited time deal  ₹379₹379 M.R.P: ₹2,999₹2,999 (87% off)FREE Delivery by Amazon\\n\\n\\n\\n\\nMore results\"),\n",
       " Document(page_content=\"Bags & Luggage\\n      \\n    \\n\\n\\n\\n\\n      Sportswear\\n      \\n    \\n\\n\\n\\n\\n      Sales & Deals\\n      \\n    \\n\\n\\n\\n\\n\\n\\n\\n\\n\\n\\n\\n\\n\\n\\n\\n\\n\\n\\n\\n\\n\\n\\n\\n\\n\\n\\n\\n\\n\\n\\n\\n\\n1-48 of over 40,000 results\\n\\n\\n\\n\\n\\n\\n\\n\\n\\n\\n\\n\\n\\n\\n\\nSort by:\\nFeatured\\nPrice: Low to High\\nPrice: High to Low\\nAvg. Customer Review\\nNewest Arrivals\\nBest Sellers\\nSort by:Featured\\nGo\\n\\n\\n\\n\\n\\n\\n\\n\\n\\n\\n\\n\\n\\n\\n\\n\\nResults\\n\\nPrice and other details may vary based on product size and colour.\\n\\n\\n\\n\\n\\n\\n\\n\\n\\n\\n\\n+4 colors/patternsSponsoredSponsored You are seeing this ad based on the product’s relevance to your search query.Let us know  SKYKNITMen's Solid Cotton Pocket Polo T-Shirt  ₹489₹489 M.R.P: ₹999₹999 (51% off)\\n\\n\\n\\n\\n\\n\\n+4 colors/patternsSponsoredSponsored You are seeing this ad based on the product’s relevance to your search query.Let us know  SKYKNITMen's Solid Cotton Polo T-Shirt  ₹469₹469 M.R.P: ₹999₹999 (53% off)\"),\n",
       " Document(page_content=\"Levi's012 Classic Vest for Men with Side Branding, Tag Free Comfort & Smartskin Technology  4.2 out of 5 stars 13,720  800+ bought in past month₹448₹448 M.R.P: ₹675₹675 (34% off)10% coupon applied at checkoutSave 10%  with coupon (limited sizes/colours) FREE Delivery by Amazon\\nBest sellerin Men's Polos  +22Amazon Brand - SymbolMen's Cotton Rich Polo T Shirt | Collar Tshirts | Half Sleeves | Plain - Regular Fit  3.9 out of 5 stars 29,013  700+ bought in past monthLimited time deal  ₹359₹359 M.R.P: ₹1,099₹1,099 (67% off)FREE Delivery by Amazon\\n+13Allen SollyMen's Regular Fit Polo  4.1 out of 5 stars 70,298  800+ bought in past month₹799₹799 M.R.P: ₹1,099₹1,099 (27% off) FREE Delivery by Amazon\\nDixcy ScottOriginals Men’s Round Neck Sleeveless Body Fit Solid Vest - Victory Vest- Assorted - Print & Color May be Vary (Pack of 2)  4.1 out of 5 stars 9,293  ₹246₹246 M.R.P: ₹399₹399 (38% off)5% coupon applied at checkoutSave 5%  with coupon (limited sizes/colours) FREE Delivery by Amazon\")]"
      ]
     },
     "execution_count": 20,
     "metadata": {},
     "output_type": "execute_result"
    }
   ],
   "source": [
    "result = pc_retriever.invoke(\"best shirts under 1000\")\n",
    "result"
   ]
  },
  {
   "attachments": {},
   "cell_type": "markdown",
   "metadata": {},
   "source": [
    "# Creating Converstational Chain [Prompt Template + Query + LLM]"
   ]
  },
  {
   "cell_type": "code",
   "execution_count": 21,
   "metadata": {},
   "outputs": [
    {
     "name": "stderr",
     "output_type": "stream",
     "text": [
      "I0000 00:00:1721295456.023431 10393760 tcp_posix.cc:809] IOMGR endpoint shutdown\n"
     ]
    }
   ],
   "source": [
    "def get_conversational_chain():\n",
    "    prompt_template = \"\"\"\n",
    "    Answer the question as detailed as possible from the provided context and with your own knowledge, make sure to provide all the details, if the answer is not in\n",
    "    provided context then try to give a the correct answer with your knowledge but make sure you don't provide the wrong answer\\n\\n\n",
    "    Context:\\n {context}?\\n\n",
    "    Question: \\n{question}\\n\n",
    "    Answer:\n",
    "    \"\"\"\n",
    "\n",
    "    model = ChatGoogleGenerativeAI(model=\"gemini-pro\", temperature=0.3)\n",
    "    prompt = PromptTemplate(template=prompt_template, input_variables=[\"context\", \"question\"])\n",
    "    chain = load_qa_chain(model, chain_type=\"stuff\", prompt=prompt)\n",
    "    return chain"
   ]
  },
  {
   "attachments": {},
   "cell_type": "markdown",
   "metadata": {},
   "source": [
    "## Creating Ensemble Retriever [Bm25 + Faiss + Pinecone Hybrid]"
   ]
  },
  {
   "cell_type": "code",
   "execution_count": 22,
   "metadata": {},
   "outputs": [],
   "source": [
    "from langchain.retrievers import EnsembleRetriever\n",
    "from langchain_community.retrievers import BM25Retriever\n",
    "\n",
    "new_db = FAISS.load_local(\"faiss_index\", embeddings, allow_dangerous_deserialization=True)\n",
    "\n",
    "# Create BM25 retriever\n",
    "# bm25_retriever = BM25Retriever(docs=documents)\n",
    "bm25_retriever = BM25Retriever.from_documents(\n",
    "    documents\n",
    ")\n",
    "\n",
    "# Create FAISS retriever\n",
    "faiss_retriever = new_db.as_retriever()\n",
    "\n",
    "# Initialize the ensemble retriever\n",
    "ensemble_retriever = EnsembleRetriever(\n",
    "    retrievers=[bm25_retriever, faiss_retriever,pc_retriever], weights=[0.5, 0.5,0.5]\n",
    ")"
   ]
  },
  {
   "attachments": {},
   "cell_type": "markdown",
   "metadata": {},
   "source": [
    "# Getting Relevant Documents based on query using Reciprocal Rank Fusion Algorithm"
   ]
  },
  {
   "cell_type": "code",
   "execution_count": 23,
   "metadata": {},
   "outputs": [
    {
     "name": "stderr",
     "output_type": "stream",
     "text": [
      "I0000 00:00:1721295535.526224 10380004 check_gcp_environment_no_op.cc:29] ALTS: Platforms other than Linux and Windows are not supported\n",
      "I0000 00:00:1721295535.535529 10380004 check_gcp_environment_no_op.cc:29] ALTS: Platforms other than Linux and Windows are not supported\n"
     ]
    },
    {
     "name": "stdout",
     "output_type": "stream",
     "text": [
      "[Document(metadata={'source': 'https://www.amazon.in/s?rh=n%3A1968120031&fs=true&ref=lp_1968120031_sar', 'title': 'Amazon.in', 'language': 'en-in'}, page_content=\"+12Van HeusenMen's Solid Polo T Shirt  4.0 out of 5 stars 37,311  400+ bought in past month₹899₹899 M.R.P: ₹1,099₹1,099 (18% off) FREE Delivery by Amazon\\nLymioCasual Shirt for Men|| Shirt for Men|| Men Stylish Shirt (Rib-Shirt)  3.9 out of 5 stars 1,075  500+ bought in past monthLimited time deal  ₹479₹479 M.R.P: ₹3,999₹3,999 (88% off)FREE Delivery by Amazon\\nJockeyMen's Inner Regular Fit T Shirt  4.0 out of 5 stars 2,216  400+ bought in past month₹299₹299 M.R.P: ₹379₹379 (21% off)FREE Delivery by Amazon\\nBest sellerin Men's Shirts  +22Dennis LingoMen's Solid Slim Fit Cotton Casual Shirt with Spread Collar & Full Sleeves (Also Available in Plus Size)  3.8 out of 5 stars 37,991  400+ bought in past month₹499₹499 M.R.P: ₹1,849₹1,849 (73% off) FREE Delivery by Amazon\\n+5Allen SollyMen's Slim Fit Shirt  3.7 out of 5 stars 15,183  500+ bought in past month₹869₹869 M.R.P: ₹1,499₹1,499 (42% off) FREE Delivery by Amazon\"), Document(metadata={'source': 'https://www.amazon.in/s?rh=n%3A1968120031&fs=true&ref=lp_1968120031_sar', 'title': 'Amazon.in', 'language': 'en-in'}, page_content=\"+4 colors/patternsFUNKY RICHFunkyrich® Textured Popcorn Shirts for Men || Casual Shirt for Men || Shirt for Men|| Men Stylish Half Sleeve Shirt || Men Fancy Shirt || Self Design Lapel Collar Casual Shirt  4.7 out of 5 stars 4  100+ bought in past month₹399₹399 M.R.P: ₹999₹999 (60% off)\\nGRECIILOOKSMen's Regular Fit Shirt  4.0 out of 5 stars 928  300+ bought in past monthLimited time deal  ₹479₹479 M.R.P: ₹2,299₹2,299 (79% off)FREE Delivery by Amazon\\nI ENTERPRISECotton Blend Regular Fit Round Neck Plain Solid Full Sleeve T-Shirt for Men-&-Boys  4.4 out of 5 stars 36  100+ bought in past monthLimited time deal  ₹399₹399 M.R.P: ₹1,499₹1,499 (73% off)FREE Delivery by Amazon\\n+6BULLMERPeach Trendy Front Printed oversized Round Neck T-shirt for men  3.5 out of 5 stars 732  300+ bought in past month₹298₹298 M.R.P: ₹1,499₹1,499 (80% off)FREE Delivery by Amazon\"), Document(metadata={'source': 'https://www.amazon.in/s?rh=n%3A1968120031&fs=true&ref=lp_1968120031_sar', 'title': 'Amazon.in', 'language': 'en-in'}, page_content=\"+6BULLMERPeach Trendy Front Printed oversized Round Neck T-shirt for men  3.5 out of 5 stars 732  300+ bought in past month₹298₹298 M.R.P: ₹1,499₹1,499 (80% off)FREE Delivery by Amazon\\nLeriya FashionMen's Regular Fit Polo T-Shirt T-Shirt  4.4 out of 5 stars 82  300+ bought in past monthLimited time deal  ₹309₹309 M.R.P: ₹1,999₹1,999 (85% off)FREE Delivery by Amazon\\n+4CB-COLEBROOKMen's Casual Button Down Shirts Long Sleeve Linen Shirt Fashion Textured Beach Summer Shirt  4.1 out of 5 stars 72  ₹499₹499 M.R.P: ₹2,195₹2,195 (77% off) FREE Delivery by Amazon\\n+5PinkmintMens Long Sleeve Button Down Shirt for Men Collared Casual Formal Soild Shirt  4.0 out of 5 stars 424  100+ bought in past monthLimited time deal  ₹349₹349 M.R.P: ₹1,999₹1,999 (83% off)FREE Delivery by Amazon\"), Document(metadata={'source': '/Users/shreehari/Documents/GenAi projects/ecommercerag/csvragdatas/Attachment 2.pdf', 'page': 4}, page_content='WHAT IS BUSINESS\\nCASUAL\\xa0\\nWHAT TO WEAR:\\n \\nSHIRTS\\n These traditional shirts work well as long as they are well-tailored, made\\nfrom high-quality materials, and of course, ironed or steamed.\\nA few good button-down shirts are a must for any business casual wardrobe. \\nThey are flattering, versatile and work well with tailored pants,\\xa0chinos\\xa0and\\nunder jackets,\\xa0cardigans\\xa0and\\xa0blazers\\xa0alike.\\nJustin A. Rivera Issue 01'), Document(metadata={'source': '/Users/shreehari/Documents/GenAi projects/ecommercerag/csvragdatas/Attachment 2.pdf', 'page': 12}, page_content='WHAT IS BUSINESS\\nFORMAL\\xa0\\nWHAT TO WEAR:\\n \\nDRESS SHIRT\\nLighter toned shirts always work better in a professional context, so stick to\\nthe classics; a crisp bright white or a powder blue shirt will do the trick. \\nAlso be mindful of the type of collar you go for, opt for straight collared\\nshirts as opposed to button-down collars for a more formal touch.\\nOversized shirts are not great, opt for fitted styles \\n \\nJustin A. Rivera Issue 01'), Document(metadata={'source': 'https://www.amazon.in/s?rh=n%3A1968120031&fs=true&ref=lp_1968120031_sar', 'title': 'Amazon.in', 'language': 'en-in'}, page_content=\"+5Allen SollyMen's Slim Fit Shirt  3.7 out of 5 stars 15,183  500+ bought in past month₹869₹869 M.R.P: ₹1,499₹1,499 (42% off) FREE Delivery by Amazon\\nLux CoziMen's Round Neck Sleeveless 100% Cotton Vest with Extended Length for Easy Tuck - Pack of 3 (Color & Prints May Vary)  3.9 out of 5 stars 3,783  ₹435₹435 M.R.P: ₹483₹483 (10% off)FREE Delivery by Amazon\\nVIP SupremeMen's Sleeveless Cotton Vest (Pack of 5)  3.9 out of 5 stars 4,833  400+ bought in past month₹499₹499 M.R.P: ₹575₹575 (13% off) FREE Delivery by Amazon\\nLeriya Fashiont shirt for men| white t shirt for men| black drop shoulder t-shirt for men  3.9 out of 5 stars 481  500+ bought in past month₹399₹399 M.R.P: ₹1,999₹1,999 (80% off)FREE Delivery by Amazon\\n+5Amazon Brand - SymbolMen's Solid Cotton Formal Shirt | Plain | Full Sleeve - Regular Fit (Available in Plus Size)  3.9 out of 5 stars 9,157  Limited time deal  ₹549₹549 M.R.P: ₹1,599₹1,599 (66% off) FREE Delivery by Amazon\"), Document(metadata={'source': 'https://www.amazon.in/s?rh=n%3A1968120031&fs=true&ref=lp_1968120031_sar', 'title': 'Amazon.in', 'language': 'en-in'}, page_content='Make Money with Us\\n\\n\\nSell on Amazon\\n\\n\\nSell under Amazon Accelerator\\n\\n\\nProtect and Build Your Brand\\n\\n\\nAmazon Global Selling\\n\\n\\nBecome an Affiliate\\n\\n\\nFulfilment by Amazon\\n\\n\\nAdvertise Your Products\\n\\n\\nAmazon Pay on Merchants\\n\\n\\n\\n\\n\\nLet Us Help You\\n\\n\\nCOVID-19 and Amazon\\n\\n\\nYour Account\\n\\n\\nReturns Centre\\n\\n\\nRecalls and Product Safety Alerts\\n\\n\\n100% Purchase Protection\\n\\n\\nAmazon App Download\\n\\n\\nHelp\\n\\n\\n\\n\\n\\n\\n\\n\\n\\n\\n\\n\\n\\n\\n\\n\\n\\nEnglish\\n\\n\\n\\nIndia\\n\\n\\n\\n\\n\\n\\nAbeBooksBooks, art& collectibles\\nAmazon Web ServicesScalable CloudComputing Services\\nAudibleDownloadAudio Books\\nIMDbMovies, TV& Celebrities\\n\\xa0\\n\\nShopbopDesignerFashion Brands\\n\\t\\nAmazon BusinessEverything ForYour Business\\nPrime Now 2-Hour Deliveryon Everyday Items\\nAmazon Prime Music100 million songs, ad-freeOver 15 million podcast episodes \\n\\n\\n\\nConditions of Use & Sale Privacy Notice Interest-Based Ads © 1996-2024, Amazon.com, Inc. or its affiliates'), Document(page_content=\"LEOTUDEHalf Regular Fit Sleeve Men's Polo T-Shirt Combo (Pack of 3)  3.6 out of 5 stars 375  100+ bought in past monthLimited time deal  ₹799₹799 M.R.P: ₹1,599₹1,599 (50% off) FREE Delivery by Amazon\\nScott InternationalShirt for men, Solid Full Sleeves shirt, Wrinkle Free Mens shirts, Cotton Formal Shirts, Regular Fit stylish mens shirt, Plain Formal Shirts for Men  3.9 out of 5 stars 87  300+ bought in past monthLimited time deal  ₹799₹799 M.R.P: ₹1,699₹1,699 (53% off)₹300 coupon applied at checkoutSave ₹300  with coupon (limited sizes/colours)  FREE Delivery by Amazon\"), Document(metadata={'source': '/Users/shreehari/Documents/GenAi projects/ecommercerag/csvragdatas/Attachment 2.pdf', 'page': 20}, page_content='WHAT IS BUSINESS\\nCASUAL\\xa0\\nWHAT TO WEAR:\\n \\nSWEATERS\\nSweaters are an excellent addition to any business casual wardrobe. They are ideal for\\nwinter, as well as providing an extra touch of warmth when required. \\nInvest in a variety of sweaters in a range of basic colors, then wear them as tops with pants\\nand skirts or layer them over shirts and dressesCardiganCrew\\nNeckMock\\nNeck\\nJustin A. Rivera Issue 01')]\n"
     ]
    },
    {
     "name": "stderr",
     "output_type": "stream",
     "text": [
      "I0000 00:00:1721295781.222513 10393760 tcp_posix.cc:809] IOMGR endpoint shutdown\n",
      "I0000 00:00:1721295781.222790 10393760 tcp_posix.cc:809] IOMGR endpoint shutdown\n"
     ]
    }
   ],
   "source": [
    "chain = get_conversational_chain()\n",
    "query = \"shirts under 1000\"\n",
    "docs = ensemble_retriever.invoke(query)\n",
    "print(docs)"
   ]
  },
  {
   "attachments": {},
   "cell_type": "markdown",
   "metadata": {},
   "source": [
    "# Finally Getting the Output from the LLM"
   ]
  },
  {
   "cell_type": "code",
   "execution_count": 90,
   "metadata": {},
   "outputs": [
    {
     "name": "stdout",
     "output_type": "stream",
     "text": [
      "Reply:  - LymioCasual Shirt for Men|| Shirt for Men|| Men Stylish Shirt (Rib-Shirt)  ₹479\n",
      "- LEOTUDEMen's Regular Fit Half Sleeve Round Neck Dri-Fit Tshirt (Color Black)  ₹498\n",
      "- JockeyMen's Inner Regular Fit T Shirt  ₹299\n",
      "- VIP SupremeMen's Sleeveless Cotton Vest (Pack of 5)  ₹499\n",
      "- Allen SollyMen's Slim Fit Shirt  ₹869\n",
      "- Leriya Fashiont shirt for men| white t shirt for men| black drop shoulder t-shirt for men  ₹399\n",
      "- Amazon Brand - SymbolMen's Solid Cotton Formal Shirt | Plain | Full Sleeve - Regular Fit (Available in Plus Size)  ₹549\n",
      "- VIPSupreme Men's Cotton Vest (Pack of 3)  ₹297\n",
      "- Amazon Brand - SymbolMen's Cotton T Shirt | Round Neck | Half Sleeve | Plain - Regular Fit (Available in Plus Size)  ₹299\n",
      "- LEOTUDEMen Half Sleeve Oversized Tshirt, Round Neck Longline Drop Shoulder | Colorful Printed Combo Regular Fit T-Shirt (Pack Of 3)  ₹699\n",
      "- Van HeusenMen's Solid T Shirt  ₹379\n",
      "- Van HeusenMen's Solid Polo T Shirt  ₹899\n",
      "- Lux CoziMen's Round Neck Sleeveless 100% Cotton Vest with Extended Length for Easy Tuck - Pack of 3 (Color & Prints May Vary)  ₹435\n",
      "- PinkmintMens Long Sleeve Button Down Shirt for Men Collared Casual Formal Soild Shirt  ₹349\n",
      "- IndoPrimoMen's Cotton Casual Regular Fit Green Checks Shirt for Men Full Sleeves - Harley  ₹499\n",
      "- Scott InternationalShirt for men, Solid Full Sleeves shirt, Wrinkle Free Mens shirts, Cotton Formal Shirts, Regular Fit stylish mens shirt, Plain Formal Shirts for Men  ₹799\n"
     ]
    },
    {
     "name": "stderr",
     "output_type": "stream",
     "text": [
      "I0000 00:00:1721281898.797194 10113488 tcp_posix.cc:809] IOMGR endpoint shutdown\n",
      "I0000 00:00:1721281918.815147 10113514 tcp_posix.cc:809] IOMGR endpoint shutdown\n"
     ]
    }
   ],
   "source": [
    "\n",
    "response = chain({\"input_documents\": docs, \"question\": query}, return_only_outputs=True)\n",
    "print(\"Reply: \", response[\"output_text\"])"
   ]
  },
  {
   "attachments": {},
   "cell_type": "markdown",
   "metadata": {},
   "source": [
    "# Due to lack of credits - I cant access Open AI model and Open Ai embeddings , so I have used open source Googleai embeddings and googlegemini pro llms. But i can also implement using Open Ai models"
   ]
  },
  {
   "attachments": {},
   "cell_type": "markdown",
   "metadata": {},
   "source": []
  }
 ],
 "metadata": {
  "kernelspec": {
   "display_name": "aimachine",
   "language": "python",
   "name": "python3"
  },
  "language_info": {
   "codemirror_mode": {
    "name": "ipython",
    "version": 3
   },
   "file_extension": ".py",
   "mimetype": "text/x-python",
   "name": "python",
   "nbconvert_exporter": "python",
   "pygments_lexer": "ipython3",
   "version": "3.10.13"
  },
  "orig_nbformat": 4
 },
 "nbformat": 4,
 "nbformat_minor": 2
}
